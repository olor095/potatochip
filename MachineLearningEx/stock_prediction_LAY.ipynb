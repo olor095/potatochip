{
 "cells": [
  {
   "cell_type": "code",
   "execution_count": 7,
   "metadata": {},
   "outputs": [],
   "source": [
    "#소스코드 링크: https://github.com/sr6033/Deep-learning-model-for-stock-price-prediction\n",
    "\n",
    "#import 하는 라이브러리들을 간단한 축약 용어로 import 해줌\n",
    "import pandas as pd\n",
    "import numpy as np\n",
    "import matplotlib.pyplot as plt"
   ]
  },
  {
   "cell_type": "code",
   "execution_count": 8,
   "metadata": {},
   "outputs": [
    {
     "name": "stdout",
     "output_type": "stream",
     "text": [
      "Dimensions of [0] is 41266\n",
      "Dimensions of [1] is 501\n",
      "data\n",
      "[[2363.6101   42.33    143.68   ...   63.86    122.       53.35  ]\n",
      " [2364.1001   42.36    143.7    ...   63.74    121.77     53.35  ]\n",
      " [2362.6799   42.31    143.6901 ...   63.75    121.7      53.365 ]\n",
      " ...\n",
      " [2470.03     44.74    164.01   ...   76.88    114.31     62.685 ]\n",
      " [2471.49     44.71    163.88   ...   76.83    114.23     62.6301]\n",
      " [2471.49     44.74    163.98   ...   76.81    114.28     62.68  ]]\n"
     ]
    }
   ],
   "source": [
    "# import data\n",
    "data = pd.read_csv('data_stocks.csv')\n",
    "\n",
    "# drop the date\n",
    "# pandas의 drop은 하나의 행 또는 열 삭제\n",
    "# Data.drop( list, axis=0/1)\n",
    "# drop 하고자 하는 행의 색인, 열의 이름을 값이나 list로 입력하며 axis=1이면 열을 drop 하는 것으로 함\n",
    "# defualt는 행(0)임\n",
    "data = data.drop(['DATE'], 1)\n",
    "# data 내부에 ['DATE']라는 첫번째 열 삭제\n",
    "\n",
    "# dimensions of dataset\n",
    "# 사용하고자 하는 데이터의 크기를 확인하는데 사용\n",
    "\n",
    "n = data.shape[0] #행의 갯수\n",
    "p = data.shape[1] #열의 갯수\n",
    "\n",
    "print(\"Dimensions of [0] is\", n)\n",
    "print(\"Dimensions of [1] is\", p)\n",
    "\n",
    "# make data as numpy array\n",
    "data = data.values\n",
    "# 기존 엑셀 파일의 첫번째 행을 key로 인식해 dictionary type으로 생각해, \n",
    "# values를 불러왔을 때 첫번째 행을 제외한 값들을 numpy array형식으로 받음\n",
    "\n",
    "print(\"data\")\n",
    "print(data)"
   ]
  },
  {
   "cell_type": "code",
   "execution_count": 9,
   "metadata": {},
   "outputs": [
    {
     "name": "stdout",
     "output_type": "stream",
     "text": [
      "np.arange(train_start, train_end is)\n",
      "[    0     1     2 ... 33009 33010 33011]\n",
      "data_train is\n",
      "[[2363.6101   42.33    143.68   ...   63.86    122.       53.35  ]\n",
      " [2364.1001   42.36    143.7    ...   63.74    121.77     53.35  ]\n",
      " [2362.6799   42.31    143.6901 ...   63.75    121.7      53.365 ]\n",
      " ...\n",
      " [2475.05     50.54    158.0143 ...   76.37    117.8688   61.535 ]\n",
      " [2474.8601   50.52    157.8701 ...   76.35    117.91     61.52  ]\n",
      " [2474.6201   50.52    157.8    ...   76.335   117.83     61.54  ]]\n",
      "data_test is\n",
      "[[2474.9399   50.48    157.88   ...   76.33    117.75     61.53  ]\n",
      " [2474.73     50.4799  157.8236 ...   76.37    117.75     61.52  ]\n",
      " [2474.55     50.49    157.7841 ...   76.36    117.73     61.5   ]\n",
      " ...\n",
      " [2470.03     44.74    164.01   ...   76.88    114.31     62.685 ]\n",
      " [2471.49     44.71    163.88   ...   76.83    114.23     62.6301]\n",
      " [2471.49     44.74    163.98   ...   76.81    114.28     62.68  ]]\n"
     ]
    }
   ],
   "source": [
    "# training and testing data\n",
    "\n",
    "train_start = 0\n",
    "train_end = int(np.floor(0.8*n)) # 파이썬 올림(ceil), 내림(floor), 반올림(round)\n",
    "                                 # int: integer\n",
    "test_start = train_end\n",
    "test_end = n\n",
    "\n",
    "# numpy의 arrange 함수\n",
    "# numpy.arange([start, ] stop, [step, ] dtype=None)\n",
    "# :start와 stop에 step의 크기만큼 일정하게 떨어져 있는 숫자들을 array 형태로 반환\n",
    "# :stop 값은 반드시 명시되어야 하며, start와 step은 지정하지 않으면 각각 0과 1을 default로 가짐.\n",
    "\n",
    "data_train = data[np.arange(train_start, train_end), :] # 슬라이싱을 이용해 train end 지점까지의 데이터를 행렬형식으로 모두 받음.\n",
    "data_test = data[np.arange(test_start, test_end), :]\n",
    "\n",
    "# 구체적으로 현재 코드에서 np.arrange가 어떻게 쓰였는지 확인하기 위해 추가\n",
    "print(\"np.arange(train_start, train_end is)\")\n",
    "print(np.arange(train_start, train_end))\n",
    "\n",
    "print(\"data_train is\")\n",
    "print(data_train)\n",
    "print(\"data_test is\")\n",
    "print(data_test)\n",
    "\n",
    "# 여기까지는 임의의 값 n에 대한 정의가 없다. 나중에 지정해주나보다"
   ]
  },
  {
   "cell_type": "code",
   "execution_count": 10,
   "metadata": {},
   "outputs": [
    {
     "name": "stdout",
     "output_type": "stream",
     "text": [
      "scaler.fit(data_train) is\n",
      "MinMaxScaler(copy=True, feature_range=(0, 1))\n",
      "data_train is\n",
      "[[2363.6101   42.33    143.68   ...   63.86    122.       53.35  ]\n",
      " [2364.1001   42.36    143.7    ...   63.74    121.77     53.35  ]\n",
      " [2362.6799   42.31    143.6901 ...   63.75    121.7      53.365 ]\n",
      " ...\n",
      " [2475.05     50.54    158.0143 ...   76.37    117.8688   61.535 ]\n",
      " [2474.8601   50.52    157.8701 ...   76.35    117.91     61.52  ]\n",
      " [2474.6201   50.52    157.8    ...   76.335   117.83     61.54  ]]\n",
      "scaler.transform(data_train) is\n",
      "[[-15.14936997  -2.98424841  -7.20426335 ...  -4.76802421  -6.25596066\n",
      "   -4.52417783]\n",
      " [-15.14934923  -2.98408729  -7.20421037 ...  -4.76870876  -6.25664446\n",
      "   -4.52417783]\n",
      " [-15.14940933  -2.98435583  -7.20423659 ...  -4.76865171  -6.25685257\n",
      "   -4.52406519]\n",
      " ...\n",
      " [-15.14465452  -2.94015273  -7.1662942  ...  -4.69665985  -6.2682429\n",
      "   -4.46271577]\n",
      " [-15.14466256  -2.94026015  -7.16667616 ...  -4.69677394  -6.26812041\n",
      "   -4.46282841]\n",
      " [-15.14467272  -2.94026015  -7.16686184 ...  -4.69685951  -6.26835825\n",
      "   -4.46267823]]\n",
      "scaler.transform(data_test) is\n",
      "[[-15.14465918  -2.94047499  -7.16664993 ...  -4.69688803  -6.26859609\n",
      "   -4.46275332]\n",
      " [-15.14466806  -2.94047553  -7.16679933 ...  -4.69665985  -6.26859609\n",
      "   -4.46282841]\n",
      " [-15.14467568  -2.94042128  -7.16690396 ...  -4.6967169   -6.26865555\n",
      "   -4.46297859]\n",
      " ...\n",
      " [-15.14486694  -2.97130437  -7.1504126  ...  -4.69375051  -6.27882336\n",
      "   -4.4540803 ]\n",
      " [-15.14480516  -2.9714655   -7.15075694 ...  -4.69403574  -6.27906121\n",
      "   -4.45449255]\n",
      " [-15.14480516  -2.97130437  -7.15049206 ...  -4.69414983  -6.27891256\n",
      "   -4.45411784]]\n"
     ]
    }
   ],
   "source": [
    "# scikit-learn의 전처리 기능\n",
    "# 스케일링(scale): 모든 자료에 선형 변환을 적용해 전체 자료 분포를 평균 0, 분산 1이 되도록 만들어줌. \n",
    "# 최적화 과정에서 안정성 및 수렴 속도를 향상시키는 장점\n",
    "# StandardScaler(x): 평균이 0과 표준편차가 1이 되도록 변환\n",
    "# RobustScaler(x): 중앙값(median)이 0, IQR(interquartile range)이 1이 되도록 변환\n",
    "# MinMaxScaler(x): 최댓값이 각각 1, 최솟값이 0이 되도록 변환\n",
    "# MaxAbsScaler(x): 0을 기준으로 절댓값이 가장 큰수가 1 또는 -1이 되도록 변환\n",
    "# 참고 링크: https://datascienceschool.net/view-notebook/f43be7d6515b48c0beb909826993c856/\n",
    "\n",
    "# scale data\n",
    "from sklearn.preprocessing import MinMaxScaler\n",
    "scaler = MinMaxScaler() # MinMaxScaler를 통해 데이터 1~0 사잇값으로 변환\n",
    "scaler.fit(data_train) # fit 함수를 통해 분포 모수를 객체 내에 저장, 데이터가 0과 1사이 값으로 바뀜\n",
    "print(\"scaler.fit(data_train) is\",) \n",
    "print(scaler.fit(data_train)) \n",
    "print(\"data_train is\")\n",
    "print(data_train)\n",
    "\n",
    "data_train = scaler.transform(data_train) # transform 함수를 통해 data를 변환\n",
    "data_test = scaler.transform(data_test)\n",
    "\n",
    "print(\"scaler.transform(data_train) is\")\n",
    "print(scaler.transform(data_train))\n",
    "print(\"scaler.transform(data_test) is\")\n",
    "print(scaler.transform(data_test))\n",
    "\n",
    "#궁금한점? data_train은 fit 과정을 거치면서 왜 data_test는 fit 과정을 거치지 않았을까?"
   ]
  },
  {
   "cell_type": "code",
   "execution_count": 11,
   "metadata": {},
   "outputs": [],
   "source": [
    "# build X & Y\n",
    "X_train = data_train[:, 1:] # 1: (슬라이싱) 1을 기준으로 오른쪽으로 슬라이싱 한다는 뜻\n",
    "Y_train = data_train[:, 0]\n",
    "X_test = data_test[:, 1:]\n",
    "Y_test = data_test[:, 0]"
   ]
  },
  {
   "cell_type": "code",
   "execution_count": 12,
   "metadata": {},
   "outputs": [
    {
     "name": "stdout",
     "output_type": "stream",
     "text": [
      "weight_initializer is\n",
      "<tensorflow.python.ops.init_ops.VarianceScaling object at 0x000001C462249BC8>\n",
      "bias_initializer is\n",
      "<tensorflow.python.ops.init_ops.Zeros object at 0x000001C466802F88>\n"
     ]
    }
   ],
   "source": [
    "import tensorflow as tf\n",
    "# Tensorflow의 Tensor란? 데이터의 배열 (Array)\n",
    "# Tensor에 대해 더 궁금하다면 : https://m.blog.naver.com/PostView.nhn?blogId=complusblog&logNo=221237818389&proxyReferer=https%3A%2F%2Fwww.google.com%2F\n",
    "\n",
    "# tensorflow의 데이터 근원 \n",
    "# 플레이스 홀더 이외 나머지 참고 링크: https://datascienceschool.net/view-notebook/5cbab09d777841f591a67928d7043f51/\n",
    "# 1. 상수형(Constant): 미리 주어진 값으로 고정된 텐서\n",
    "# 2. 변수형(Variable): 세션 내에서 값이 바뀔수 있는 텐서\n",
    "# 3. 플레이스홀더(Placeholder): 고정된 값을 가지지만 값이 미리 주어지지 않고 나중에 넣을 수 있음.\n",
    "#   예시코드\n",
    "#   x=tf.placeholder(dtype=tf.int32, shape=(None, 10)) => 행의 갯수는 미정, 열의 갯수는 10개\n",
    "\n",
    "# Model architecture parameters\n",
    "\n",
    "n_stocks = 500 # 입력값의 노드는 입력 데이터의 갯수와 일치하게 설정 (정답을 제외한 1열을 빼면 500개)\n",
    "n_neurons_1 = 1024\n",
    "n_neurons_2 = 512\n",
    "n_neurons_3 = 256\n",
    "n_neurons_4 = 128\n",
    "n_target = 1\n",
    "# 히든 노드의 구성 (원하는 대로 설정하면됨)\n",
    "# 500개 입력 -> 1024개의 첫번째 뉴런 -> 512개의 두번째 뉴런 -> 256개의 세번째 뉴런 -> 128개의 4번째 뉴런 -> 1개의 output\n",
    "\n",
    "# Placeholder: 차후 임의의 값을 입력으로 받기 위한 정의\n",
    "X = tf.placeholder(dtype=tf.float32, shape=[None, n_stocks])\n",
    "# X는 float32라는 형식의 데이터 타입을 가지며, 구조는 행의 갯수는 미정, 열의 갯수는 n_stocks 만큼 가짐.\n",
    "Y = tf.placeholder(dtype=tf.float32, shape=[None])\n",
    "\n",
    "# Initializers\n",
    "sigma = 1\n",
    "weight_initializer = tf.variance_scaling_initializer(mode=\"fan_avg\", distribution=\"uniform\", scale=sigma)\n",
    "print(\"weight_initializer is\")\n",
    "print(weight_initializer)\n",
    "\n",
    "bias_initializer = tf.zeros_initializer()\n",
    "print(\"bias_initializer is\")\n",
    "print(bias_initializer)\n",
    "\n",
    "# 뭔진 모르겠지만 텐서플로우를 사용할때 파라미터 초기화 방법들이다."
   ]
  },
  {
   "cell_type": "code",
   "execution_count": 13,
   "metadata": {
    "scrolled": true
   },
   "outputs": [],
   "source": [
    "# tf.Variable을 통해 변수 생성, 이때 이전에 만들어준 initializer 사용\n",
    "# tf.Variable(변수노드)은 가중치나 바이어스 처럼 계속 업데이트 되는 경우 사용\n",
    "\n",
    "# Layer 1: Variables for hidden weights and biases\n",
    "W_hidden_1 = tf.Variable(weight_initializer([n_stocks, n_neurons_1]))\n",
    "bias_hidden_1 = tf.Variable(bias_initializer([n_neurons_1]))\n",
    "\n",
    "# Layer 2: Variables for hidden weights and biases\n",
    "W_hidden_2 = tf.Variable(weight_initializer([n_neurons_1, n_neurons_2]))\n",
    "bias_hidden_2 = tf.Variable(bias_initializer([n_neurons_2]))\n",
    "\n",
    "# Layer 3: Variables for hidden weights and biases\n",
    "W_hidden_3 = tf.Variable(weight_initializer([n_neurons_2, n_neurons_3]))\n",
    "bias_hidden_3 = tf.Variable(bias_initializer([n_neurons_3]))\n",
    "\n",
    "# Layer 4: Variables for hidden weights and biases\n",
    "W_hidden_4 = tf.Variable(weight_initializer([n_neurons_3, n_neurons_4]))\n",
    "bias_hidden_4 = tf.Variable(bias_initializer([n_neurons_4]))\n",
    "\n",
    "# Output layer: Variables for output weights and biases\n",
    "W_out = tf.Variable(weight_initializer([n_neurons_4, n_target]))\n",
    "bias_out = tf.Variable(bias_initializer([n_target]))"
   ]
  },
  {
   "cell_type": "code",
   "execution_count": 14,
   "metadata": {
    "scrolled": true
   },
   "outputs": [],
   "source": [
    "# 렐루(ReLu, Rectified linear unit) 활성화 함수: 최근 딥 뉴럴 네트워크 히든레이어의 기본 활성화 함수\n",
    "# max(0,x)으로 음수의 경우 0을 리턴하고 그 외에는 x를 리턴함.\n",
    "# ReLu vs. sigmoid => ReLu는 경사도가 사라지는 문제를 해결할 수 있어서 이 함수 사용\n",
    "\n",
    "# Hidden layer\n",
    "hidden_1 = tf.nn.relu(tf.add(tf.matmul(X, W_hidden_1), bias_hidden_1))\n",
    "# tf.matmul: 3차원 이상의 텐서사이의 행렬곱\n",
    "# hidden_1은 결과적으로 머신러닝에서 y=X*W+b를 나타낸다는 것을 알 수 있음. \n",
    "hidden_2 = tf.nn.relu(tf.add(tf.matmul(hidden_1, W_hidden_2), bias_hidden_2))\n",
    "hidden_3 = tf.nn.relu(tf.add(tf.matmul(hidden_2, W_hidden_3), bias_hidden_3))\n",
    "hidden_4 = tf.nn.relu(tf.add(tf.matmul(hidden_3, W_hidden_4), bias_hidden_4))\n",
    "\n",
    "# Output layer (must be transposed)\n",
    "out = tf.transpose(tf.add(tf.matmul(hidden_4, W_out), bias_out))\n",
    "# 최종 가중치와 바이어스를 계산한 output value (손실함수값)\n",
    "# 이 값이 최소가 되면 학습종료."
   ]
  },
  {
   "cell_type": "code",
   "execution_count": 15,
   "metadata": {
    "scrolled": true
   },
   "outputs": [],
   "source": [
    "# Cost function\n",
    "mse = tf.reduce_mean(tf.squared_difference(out, Y))\n",
    "# Training 과정에서 정답과 계산값의 차이 (오차)\n",
    "\n",
    "# Optimizer\n",
    "opt = tf.train.AdamOptimizer().minimize(mse)\n",
    "# Gradient Descent Algorithm: 오차값을 최소화 하기위한 함수"
   ]
  },
  {
   "cell_type": "code",
   "execution_count": 23,
   "metadata": {},
   "outputs": [
    {
     "data": {
      "image/png": "[encoded data removed]",
      "text/plain": [
       "<Figure size 432x288 with 1 Axes>"
      ]
     },
     "metadata": {
      "needs_background": "light"
     },
     "output_type": "display_data"
    },
    {
     "name": "stdout",
     "output_type": "stream",
     "text": [
      "0.0014695774\n"
     ]
    }
   ],
   "source": [
    "# TensorFlow에서 텐서(Tensor) 계산 과정은 모두 그래프(Graph)라고 부르는 객체 내에 저장된다.\n",
    "# 그래프를 계산하려면 외부 컴퓨터에 이 그래프 정보를 전달하고 그 결과값을 받아야 한다. \n",
    "# 그 통신과정을 담당하는 것이 세션(Session)이라고 부르는 객체이다.\n",
    "\n",
    "# 세션(Session) : 계산 그래프 생성 및 값 계산을 위한 환경 제공\n",
    "# 세션 생성 : Session\n",
    "# 세션 사용: run\n",
    "# 세션 종료: close\n",
    "\n",
    "# sess.run(실행하고자하는 연산(플레이스홀더), feed_dict={a:a.0, b:3.0})\n",
    "# 플레이스 홀더 노드에 실제 값을 넣어 줄때 feed_dict을 통해 dictionary 타입으로 값을 넣어줌. \n",
    "\n",
    "# Make Session\n",
    "net = tf.Session()\n",
    "\n",
    "# Run initializer (변수노드 초기화)\n",
    "net.run(tf.global_variables_initializer())\n",
    "# 이전에 tf.Variable을 통해 변수노드를 생성했을 경우, 반드시 변수노드 값 초기화가 필요\n",
    "\n",
    "\n",
    "\n",
    "# Setup interactive plot\n",
    "plt.ion() # interactive-on: 매번 그림을 갱신하고 싶을때\n",
    "fig = plt.figure() \n",
    "ax1 = fig.add_subplot(111)\n",
    "line1, = ax1.plot(Y_test)\n",
    "line2, = ax1.plot(Y_test*0.5)\n",
    "plt.show()\n",
    "\n",
    "# Number of epochs and batch size\n",
    "epochs = 10  # 반복횟수\n",
    "batch_size = 256 # 한번에 입력으로 주어지는 데이터의 갯수\n",
    "\n",
    "for e in range(epochs):\n",
    "\n",
    "    # Shuffle training data (데이터가 순서대로 들어가는 것을 막기 위해 데이터를 섞어줌)\n",
    "    shuffle_indices = np.random.permutation(np.arange(len(Y_train))) # 대소문자 바껴도 못알아 먹는다..\n",
    "    X_train = X_train[shuffle_indices]\n",
    "    Y_train = Y_train[shuffle_indices]\n",
    "\n",
    "    # Minibatch training (Mini-batch gradient descent(MSGD))\n",
    "    # 데이터 중에 일부 데이터만 뽑아서 기울기를 구한 다음 평균값을 내는 방식\n",
    "    # 참고 링크 : https://light-tree.tistory.com/133\n",
    "    for i in range(0, len(Y_train) // batch_size):   # len(): 데이터의 크기 나타내는 함수\n",
    "        start = i * batch_size\n",
    "        batch_x = X_train[start:start + batch_size]\n",
    "        batch_y = Y_train[start:start + batch_size]\n",
    "        # Run optimizer with batch\n",
    "        net.run(opt, feed_dict={X: batch_x, Y: batch_y})\n",
    "\n",
    "        # Show progress (이거 제대로 안나오는데 지금 수정할 시간이 없다 그래서 그냥 없애버렸다.)\n",
    "#        if np.mod(i, 5) == 0:\n",
    "#            # Prediction\n",
    "#            pred = net.run(out, feed_dict={X: X_test})\n",
    "#            line2.set_ydata(pred)\n",
    "#            plt.title('Epoch ' + str(e) + ', Batch ' + str(i))\n",
    "#            file_name = 'epoch_' + str(e) + '_batch_' + str(i) + '.jpg'\n",
    "#            plt.savefig(file_name)\n",
    "#            plt.pause(0.01)\n",
    "      \n",
    "            \n",
    "            \n",
    "# Print final MSE after Training\n",
    "mse_final = net.run(mse, feed_dict={X: X_test, Y: Y_test})\n",
    "print(mse_final)\n",
    "net.close()"
   ]
  },
  {
   "cell_type": "code",
   "execution_count": null,
   "metadata": {},
   "outputs": [],
   "source": []
  },
  {
   "cell_type": "code",
   "execution_count": null,
   "metadata": {},
   "outputs": [],
   "source": []
  },
  {
   "cell_type": "code",
   "execution_count": null,
   "metadata": {},
   "outputs": [],
   "source": []
  },
  {
   "cell_type": "code",
   "execution_count": null,
   "metadata": {},
   "outputs": [],
   "source": []
  },
  {
   "cell_type": "code",
   "execution_count": null,
   "metadata": {},
   "outputs": [],
   "source": []
  },
  {
   "cell_type": "code",
   "execution_count": null,
   "metadata": {},
   "outputs": [],
   "source": []
  },
  {
   "cell_type": "code",
   "execution_count": null,
   "metadata": {},
   "outputs": [],
   "source": []
  },
  {
   "cell_type": "code",
   "execution_count": null,
   "metadata": {},
   "outputs": [],
   "source": []
  },
  {
   "cell_type": "code",
   "execution_count": null,
   "metadata": {},
   "outputs": [],
   "source": []
  },
  {
   "cell_type": "code",
   "execution_count": null,
   "metadata": {},
   "outputs": [],
   "source": []
  }
 ],
 "metadata": {
  "kernelspec": {
   "display_name": "Python 3",
   "language": "python",
   "name": "python3"
  },
  "language_info": {
   "codemirror_mode": {
    "name": "ipython",
    "version": 3
   },
   "file_extension": ".py",
   "mimetype": "text/x-python",
   "name": "python",
   "nbconvert_exporter": "python",
   "pygments_lexer": "ipython3",
   "version": "3.7.4"
  }
 },
 "nbformat": 4,
 "nbformat_minor": 2
}
