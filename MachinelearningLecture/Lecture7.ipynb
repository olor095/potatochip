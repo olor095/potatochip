{
 "cells": [
  {
   "cell_type": "code",
   "execution_count": 2,
   "metadata": {},
   "outputs": [
    {
     "name": "stdout",
     "output_type": "stream",
     "text": [
      "A.shape == (2, 3) B.shape == (3, 2)\n",
      "C.shape == (2, 2)\n",
      "[[-22 -28]\n",
      " [-49 -64]]\n"
     ]
    }
   ],
   "source": [
    "# numpy (2)\n",
    "# 1. numpy 행렬 곱 (dot product) (1)\n",
    "# : np.dot(A,B) => 행렬 A의 열 벡터와 B 행렬의 행 벡터가 같아야함.\n",
    "# : 두 값이 다르다면 reshape() 혹은 transpose() 등을 사용해 형 변환을 해준 후 행렬 곱 실행해야함\n",
    "import numpy as np\n",
    "\n",
    "A = np.array([[1,2,3],[4,5,6]]) # 2x3행렬\n",
    "B = np.array([[-1,-2],[-3,-4],[-5,-6]]) # 3x2행렬\n",
    "\n",
    "# (2x3) dot product (3x2) == (2x2) 행렬\n",
    "C = np.dot(A,B) # 행렬 곱 수행\n",
    "\n",
    "# matrix A, B 형상 출력\n",
    "print(\"A.shape ==\", A.shape,\"B.shape ==\", B.shape)\n",
    "print(\"C.shape ==\", C.shape)\n",
    "print(C)"
   ]
  },
  {
   "cell_type": "code",
   "execution_count": 4,
   "metadata": {},
   "outputs": [
    {
     "name": "stdout",
     "output_type": "stream",
     "text": [
      "[[6 7]\n",
      " [8 9]]\n"
     ]
    }
   ],
   "source": [
    "# : 행렬곱은 1) 행렬곱 조건을 만족하는 다양한 크기의 행렬을 연속적으로 만들고\n",
    "# 2) 행렬 곱을 연속적으로 계산하며, 3) 결과값을 만들 수 있기 때문에 \n",
    "# 머신러닝과 이미지 프로세싱 분야에서 자주 사용됨\n",
    "\n",
    "# 2. numpy broadcast\n",
    "# : numpy에서는 크기가 다른 두 행렬간에도 사칙연산이 가능함 (dot product는 안됨)\n",
    "# : 차원이 작은 쪽이 큰 쪽의 행 단위로 반복적으로 크기를 맞춘 후 계산\n",
    "\n",
    "D = np.array([[1,2],[3,4]])\n",
    "b = 5  # b를 2x2 가 모두 5로 채워진 행렬로 바꿔줌\n",
    "\n",
    "print(D+b)"
   ]
  },
  {
   "cell_type": "code",
   "execution_count": 5,
   "metadata": {},
   "outputs": [
    {
     "name": "stdout",
     "output_type": "stream",
     "text": [
      "[[5 7]\n",
      " [7 9]]\n"
     ]
    }
   ],
   "source": [
    "E= np.array([4,5])\n",
    "print (D+E) # E를 [[4,5],[4,5]] 로 변형시켜서 연산 실행"
   ]
  },
  {
   "cell_type": "code",
   "execution_count": 6,
   "metadata": {},
   "outputs": [
    {
     "name": "stdout",
     "output_type": "stream",
     "text": [
      "[[1 4]\n",
      " [2 5]\n",
      " [3 6]]\n"
     ]
    }
   ],
   "source": [
    "# 3. numpy transpose \n",
    "# B=A.T 형식으로 표현\n",
    "# vector는 transpose 안됨\n",
    "\n",
    "F=A.T\n",
    "print(F)"
   ]
  },
  {
   "cell_type": "code",
   "execution_count": 13,
   "metadata": {},
   "outputs": [
    {
     "name": "stdout",
     "output_type": "stream",
     "text": [
      "A[0,0] ==  1\n",
      "A[:,:] == [[1 2 3]\n",
      " [4 5 6]]\n"
     ]
    }
   ],
   "source": [
    "# 4. numpy 행렬 indexing / slicing\n",
    "# : list와 마찬가지로 인덱싱 슬라이싱 모두 가능\n",
    "print(\"A[0,0] == \", A[0, 0])\n",
    "print(\"A[:,:] ==\", A[:,:])"
   ]
  },
  {
   "cell_type": "code",
   "execution_count": 3,
   "metadata": {},
   "outputs": [
    {
     "name": "stdout",
     "output_type": "stream",
     "text": [
      "[[10 20 30 40]\n",
      " [50 60 70 80]] \n",
      "\n",
      "A,shape == (2, 4) \n",
      "\n",
      "current value =>  10\n",
      "current value =>  20\n",
      "current value =>  30\n",
      "current value =>  40\n",
      "current value =>  50\n",
      "current value =>  60\n",
      "current value =>  70\n",
      "current value =>  80\n"
     ]
    }
   ],
   "source": [
    "# 5. numpy 행렬 iterator\n",
    "# : 행렬의 모든 원소를 access하는 경우 iterator 사용\n",
    "\n",
    "import numpy as np\n",
    "\n",
    "A = np.array([[10,20,30,40],[50,60,70,80]])\n",
    "\n",
    "print(A, \"\\n\")\n",
    "print(\"A,shape ==\", A.shape, \"\\n\")\n",
    "\n",
    "# 행렬 A 의 iterator 생성\n",
    "\n",
    "it = np.nditer(A, flags=['multi_index'], op_flags=['readwrite']) \n",
    "\n",
    "# flags=['multi_index'] 라고 하면 iterator 생성후 반복할때 행렬처럼 (row, column) 형태의 multi_index 형태로 동작하라는 의미입니다.\n",
    "# 그리고 op_flags 의미는 말 그대로 iterator 를 R/W 형태로 생성시킨다는 의미입니다.\n",
    "# R/W 말고 RO 형태로 생성해도 문제없습니다\n",
    "\n",
    "while not it.finished:\n",
    "    \n",
    "    idx = it.multi_index\n",
    "    \n",
    "    print(\"current value => \", A[idx]) \n",
    "    \n",
    "    it.iternext()"
   ]
  }
 ],
 "metadata": {
  "kernelspec": {
   "display_name": "virEnv",
   "language": "python",
   "name": "virenv"
  },
  "language_info": {
   "codemirror_mode": {
    "name": "ipython",
    "version": 3
   },
   "file_extension": ".py",
   "mimetype": "text/x-python",
   "name": "python",
   "nbconvert_exporter": "python",
   "pygments_lexer": "ipython3",
   "version": "3.7.5"
  }
 },
 "nbformat": 4,
 "nbformat_minor": 2
}
