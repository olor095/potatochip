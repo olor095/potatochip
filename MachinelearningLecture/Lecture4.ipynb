{
 "cells": [
  {
   "cell_type": "code",
   "execution_count": 1,
   "metadata": {},
   "outputs": [
    {
     "name": "stdout",
     "output_type": "stream",
     "text": [
      "30\n"
     ]
    }
   ],
   "source": [
    "# function, lambda\n",
    "\n",
    "# <function>\n",
    "# 1. 형식 => def 함수이름 (입력1, 입력2, ...):\n",
    "\n",
    "def sum(x,y):\n",
    "    s = x+y\n",
    "    return s\n",
    "result = sum(10, 20)\n",
    "print(result)"
   ]
  },
  {
   "cell_type": "code",
   "execution_count": 2,
   "metadata": {},
   "outputs": [
    {
     "name": "stdout",
     "output_type": "stream",
     "text": [
      "101 102 103\n"
     ]
    }
   ],
   "source": [
    "# 2. 반환값(return) => 한 개 이상의 return 값을 콤마(,)로 분리 혹은 tuple 형태로 반환 가능\n",
    "\n",
    "def multi_ret_func(x):\n",
    "    return x+1, x+2, x+3 # return (x+1, x+2, x+3)\n",
    "x = 100\n",
    "y1, y2, y3 = multi_ret_func(x) # (y1, y2, y3) = multi_ret_func(x)\n",
    "\n",
    "print(y1, y2, y3)"
   ]
  },
  {
   "cell_type": "code",
   "execution_count": 4,
   "metadata": {},
   "outputs": [
    {
     "name": "stdout",
     "output_type": "stream",
     "text": [
      "No default parameter\n",
      "name == LAY\n",
      "name == LAY\n",
      "Parameter is setted as 5\n",
      "name == LAY\n",
      "name == LAY\n",
      "name == LAY\n",
      "name == LAY\n",
      "name == LAY\n"
     ]
    }
   ],
   "source": [
    "# 3. dafault parameter\n",
    "#    함수 입력 parameter에 기본값 지정\n",
    "#    함수 호출 후 입력 parameter에 명시적 값이 전달 되지 않으면 기본값(default parameter) 사용하겠다는 뜻\n",
    "\n",
    "def print_name(name, count=2):\n",
    "    for i in range(count):\n",
    "        print(\"name ==\", name)\n",
    "print(\"No default parameter\")\n",
    "print_name(\"LAY\") # count에 아무런 parameter 지정하지 않은 경우\n",
    "print(\"Parameter is setted as 5\")\n",
    "print_name(\"LAY\", 5) # count에 5라는 parameter 지정한 경우"
   ]
  },
  {
   "cell_type": "code",
   "execution_count": 5,
   "metadata": {},
   "outputs": [
    {
     "name": "stdout",
     "output_type": "stream",
     "text": [
      "x == 1 , test_list == [1, 2, 3, 100]\n"
     ]
    }
   ],
   "source": [
    "# 4. mutable, immutable parameter\n",
    "#    mutable parameter: list, dict, numpy 등과 같이 데이터 변형이 가능한 경우\n",
    "#    immutable parameter: 숫자, 문자, tuple 등과 같이 데이터 변형이 불가능한 경우\n",
    "\n",
    "def mutable_immutable_func(int_x, input_list): # 함수 지정\n",
    "    int_x += 1\n",
    "    input_list.append(100)\n",
    "\n",
    "x = 1 # immutable parameter 생성\n",
    "test_list = [1,2,3] # mutable parameter 생성\n",
    "\n",
    "mutable_immutable_func(x, test_list)\n",
    "\n",
    "print(\"x ==\", x, \", test_list ==\", test_list)"
   ]
  },
  {
   "cell_type": "code",
   "execution_count": 6,
   "metadata": {},
   "outputs": [
    {
     "name": "stdout",
     "output_type": "stream",
     "text": [
      "100\n",
      "101\n",
      "102\n"
     ]
    }
   ],
   "source": [
    "# <lambda>\n",
    "# 한 줄로 함수를 작성하는 방법\n",
    "# 1. 형식 => 함수명 = lambda 입력1, 입력2, ... : 대체되는 표현식\n",
    "f = lambda x : x+100\n",
    "\n",
    "for i in range(3):\n",
    "    print(f(i))"
   ]
  },
  {
   "cell_type": "code",
   "execution_count": 7,
   "metadata": {},
   "outputs": [
    {
     "name": "stdout",
     "output_type": "stream",
     "text": [
      "input1 == 100 , input2 == 200\n",
      "hello python :)\n",
      "Mistakenly missing parameters\n"
     ]
    },
    {
     "ename": "TypeError",
     "evalue": "<lambda>() missing 2 required positional arguments: 'x' and 'y'",
     "output_type": "error",
     "traceback": [
      "\u001b[1;31m---------------------------------------------------------------------------\u001b[0m",
      "\u001b[1;31mTypeError\u001b[0m                                 Traceback (most recent call last)",
      "\u001b[1;32m<ipython-input-7-5ae54e2e7363>\u001b[0m in \u001b[0;36m<module>\u001b[1;34m\u001b[0m\n\u001b[0;32m     17\u001b[0m \u001b[1;31m# 함수 입력값을 넣지 않은 경우\u001b[0m\u001b[1;33m\u001b[0m\u001b[1;33m\u001b[0m\u001b[1;33m\u001b[0m\u001b[0m\n\u001b[0;32m     18\u001b[0m \u001b[0mprint\u001b[0m\u001b[1;33m(\u001b[0m\u001b[1;34m\"Mistakenly missing parameters\"\u001b[0m\u001b[1;33m)\u001b[0m\u001b[1;33m\u001b[0m\u001b[1;33m\u001b[0m\u001b[0m\n\u001b[1;32m---> 19\u001b[1;33m \u001b[0mfx\u001b[0m\u001b[1;33m(\u001b[0m\u001b[1;33m)\u001b[0m\u001b[1;33m\u001b[0m\u001b[1;33m\u001b[0m\u001b[0m\n\u001b[0m\u001b[0;32m     20\u001b[0m \u001b[1;33m\u001b[0m\u001b[0m\n",
      "\u001b[1;31mTypeError\u001b[0m: <lambda>() missing 2 required positional arguments: 'x' and 'y'"
     ]
    }
   ],
   "source": [
    "# 2. lambda에서의 입력값을 함수 내부에서 반드시 사용할 필요는 없음\n",
    "\n",
    "def print_hello():\n",
    "    print(\"hello python :)\")\n",
    "def test_lambda(s,t):\n",
    "    print(\"input1 ==\", s, \", input2 ==\", t)\n",
    "    \n",
    "s = 100\n",
    "t = 200  # s, t 선언 및 값 할당이 없으면 error 발생\n",
    "\n",
    "fx = lambda x, y : test_lambda(s,t)\n",
    "fy = lambda x, y : print_hello()\n",
    "\n",
    "fx(500,1000) # lambda가 두개의 입력값을 요하므로 반드시 입력해야만 함\n",
    "fy(300,600)\n",
    "\n",
    "# 함수 입력값을 넣지 않은 경우, error 발생\n",
    "print(\"Mistakenly missing parameters\")\n",
    "fx()\n",
    "\n"
   ]
  },
  {
   "cell_type": "code",
   "execution_count": null,
   "metadata": {},
   "outputs": [],
   "source": []
  }
 ],
 "metadata": {
  "kernelspec": {
   "display_name": "virEnv",
   "language": "python",
   "name": "virenv"
  },
  "language_info": {
   "codemirror_mode": {
    "name": "ipython",
    "version": 3
   },
   "file_extension": ".py",
   "mimetype": "text/x-python",
   "name": "python",
   "nbconvert_exporter": "python",
   "pygments_lexer": "ipython3",
   "version": "3.7.5"
  }
 },
 "nbformat": 4,
 "nbformat_minor": 2
}
