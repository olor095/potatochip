{
 "cells": [
  {
   "cell_type": "code",
   "execution_count": 5,
   "metadata": {},
   "outputs": [
    {
     "name": "stdout",
     "output_type": "stream",
     "text": [
      "LEE is initialized\n"
     ]
    }
   ],
   "source": [
    "# class, exception, with\n",
    "\n",
    "# <클래스 (class)>\n",
    "# : class 키워드를 사용해 자신만의 데이터 타입을 만들 수 있음\n",
    "# 1. 형식\n",
    "# class 클래스이름:\n",
    "#   def __int__(self,인수,...): =>생성자\n",
    "#   def 메서드이름(self,인수,...): =>메서드\n",
    "\n",
    "class Person:\n",
    "    def __init__(self, name): # 파이썬 클래스에서는 __init__이 생성자 역할 수행하며 인스턴스가 만들어질 때 한번만 호출됨.\n",
    "        self.name = name\n",
    "        print(self.name + \" is initialized\")\n",
    "    def work(self, company):  # 클래스 메서드의 첫번째 인수로는 반드시 self가 들어가야함\n",
    "        print(self.name + \" is working in \" + company)\n",
    "    def sleep(self):\n",
    "        print(self.name + \" is sleeping\")\n",
    "\n",
    "# Person instance 생성\n",
    "obj = Person(\"LEE\")"
   ]
  },
  {
   "cell_type": "code",
   "execution_count": 6,
   "metadata": {},
   "outputs": [
    {
     "name": "stdout",
     "output_type": "stream",
     "text": [
      "LEE is working in UNIST\n"
     ]
    }
   ],
   "source": [
    "# 메서드 호출\n",
    "obj.work(\"UNIST\")"
   ]
  },
  {
   "cell_type": "code",
   "execution_count": 7,
   "metadata": {},
   "outputs": [
    {
     "name": "stdout",
     "output_type": "stream",
     "text": [
      "LEE is sleeping\n"
     ]
    }
   ],
   "source": [
    "# 메서드 호출 2\n",
    "obj.sleep()"
   ]
  },
  {
   "cell_type": "code",
   "execution_count": 8,
   "metadata": {},
   "outputs": [
    {
     "name": "stdout",
     "output_type": "stream",
     "text": [
      "current person object is  LEE\n"
     ]
    }
   ],
   "source": [
    "# 속성에 직접 접근, 기본적으로 파이썬에서는 모두 public\n",
    "print(\"current person object is \", obj.name)"
   ]
  },
  {
   "cell_type": "code",
   "execution_count": 9,
   "metadata": {},
   "outputs": [
    {
     "ename": "NameError",
     "evalue": "name 'name' is not defined",
     "output_type": "error",
     "traceback": [
      "\u001b[1;31m---------------------------------------------------------------------------\u001b[0m",
      "\u001b[1;31mNameError\u001b[0m                                 Traceback (most recent call last)",
      "\u001b[1;32m<ipython-input-9-9ba126b17b03>\u001b[0m in \u001b[0;36m<module>\u001b[1;34m\u001b[0m\n\u001b[1;32m----> 1\u001b[1;33m \u001b[0mprint\u001b[0m\u001b[1;33m(\u001b[0m\u001b[0mname\u001b[0m\u001b[1;33m)\u001b[0m\u001b[1;33m\u001b[0m\u001b[1;33m\u001b[0m\u001b[0m\n\u001b[0m",
      "\u001b[1;31mNameError\u001b[0m: name 'name' is not defined"
     ]
    }
   ],
   "source": [
    "print(name) # 인스턴스 (obj) 를 앞에 붙이지 않으면 에러"
   ]
  },
  {
   "cell_type": "code",
   "execution_count": 10,
   "metadata": {},
   "outputs": [
    {
     "ename": "AttributeError",
     "evalue": "type object 'Person' has no attribute 'name'",
     "output_type": "error",
     "traceback": [
      "\u001b[1;31m---------------------------------------------------------------------------\u001b[0m",
      "\u001b[1;31mAttributeError\u001b[0m                            Traceback (most recent call last)",
      "\u001b[1;32m<ipython-input-10-f5ef8b85aae7>\u001b[0m in \u001b[0;36m<module>\u001b[1;34m\u001b[0m\n\u001b[1;32m----> 1\u001b[1;33m \u001b[0mprint\u001b[0m\u001b[1;33m(\u001b[0m\u001b[0mPerson\u001b[0m\u001b[1;33m.\u001b[0m\u001b[0mname\u001b[0m\u001b[1;33m)\u001b[0m\u001b[1;33m\u001b[0m\u001b[1;33m\u001b[0m\u001b[0m\n\u001b[0m",
      "\u001b[1;31mAttributeError\u001b[0m: type object 'Person' has no attribute 'name'"
     ]
    }
   ],
   "source": [
    "print(Person.name) # 인스턴스 호출없이 단순히 클래스 네임으로만으로도 호출 불가능"
   ]
  },
  {
   "cell_type": "code",
   "execution_count": 20,
   "metadata": {},
   "outputs": [
    {
     "name": "stdout",
     "output_type": "stream",
     "text": [
      "PARK is initialized\n",
      "KIM is initialized\n",
      "PARK is working in ABCDEF\n",
      "KIM is sleeping\n",
      "current person object is  PARK ,  KIM\n",
      "Person count == 2\n",
      "2\n"
     ]
    },
    {
     "ename": "TypeError",
     "evalue": "work() missing 1 required positional argument: 'company'",
     "output_type": "error",
     "traceback": [
      "\u001b[1;31m---------------------------------------------------------------------------\u001b[0m",
      "\u001b[1;31mTypeError\u001b[0m                                 Traceback (most recent call last)",
      "\u001b[1;32m<ipython-input-20-2c797b6cfe4c>\u001b[0m in \u001b[0;36m<module>\u001b[1;34m\u001b[0m\n\u001b[0;32m     43\u001b[0m \u001b[1;31m# 궁금한거\u001b[0m\u001b[1;33m\u001b[0m\u001b[1;33m\u001b[0m\u001b[1;33m\u001b[0m\u001b[0m\n\u001b[0;32m     44\u001b[0m \u001b[1;31m# 1) 입력변수가 필요한 메서드에 입력변수 안넣는다면?\u001b[0m\u001b[1;33m\u001b[0m\u001b[1;33m\u001b[0m\u001b[1;33m\u001b[0m\u001b[0m\n\u001b[1;32m---> 45\u001b[1;33m \u001b[0mobj2\u001b[0m\u001b[1;33m.\u001b[0m\u001b[0mwork\u001b[0m\u001b[1;33m(\u001b[0m\u001b[1;33m)\u001b[0m \u001b[1;31m# 필요한 입력변수만큼 변수가 입력되어야만 사용가능\u001b[0m\u001b[1;33m\u001b[0m\u001b[1;33m\u001b[0m\u001b[0m\n\u001b[0m",
      "\u001b[1;31mTypeError\u001b[0m: work() missing 1 required positional argument: 'company'"
     ]
    }
   ],
   "source": [
    "# 2. 클래스 변수(class variable)\n",
    "# : 해당 클래스로 생성된 모든 인스턴스가 공통으로 사용하는 변수\n",
    "# : 클래스 함수 내,외부에서 \"클래스명.클래스 변수명\"으로 접근 할 수 있음\n",
    "\n",
    "# 3. 클래스 매서드(class method)\n",
    "# : 메서드 앞에 @classmethod 를 반드시 표시해 해당 메서드가 클래스 메서드임을 표시해야함.\n",
    "# : 클래스 메서드는 객체 인서턴스를 의미하는 self 대신 cls로 인수를 전달 받음.\n",
    "\n",
    "class Person2:\n",
    "    \n",
    "    count = 0 # 클래스 변수 생성\n",
    "    \n",
    "    def __init__(self, name): # 파이썬 클래스에서는 __init__이 생성자 역할 수행하며 인스턴스가 만들어질 때 한번만 호출됨.\n",
    "        self.name = name\n",
    "        Person2.count += 1     # class 변수 count 증가\n",
    "        print(self.name + \" is initialized\")\n",
    "    def work(self, company):  # 클래스 메서드의 첫번째 인수로는 반드시 self가 들어가야함\n",
    "        print(self.name + \" is working in \" + company)\n",
    "    def sleep(self):\n",
    "        print(self.name + \" is sleeping\")\n",
    "        \n",
    "    @classmethod\n",
    "    def getCount(cls):      # 클래스 메서드 생성\n",
    "        return cls.count\n",
    "    \n",
    "# Person instance 2개 생성\n",
    "obj1 = Person2(\"PARK\")\n",
    "obj2 = Person2(\"KIM\")\n",
    "\n",
    "# Method call\n",
    "obj1.work(\"ABCDEF\")\n",
    "obj2.sleep()\n",
    "\n",
    "# 속성에 직접 접근\n",
    "print(\"current person object is \", obj1. name, \", \", obj2.name)\n",
    "\n",
    "# classmethod 호출\n",
    "print(\"Person count ==\", Person2.getCount())\n",
    "\n",
    "# class variable을 직접 접근 (기본적으로 Public)\n",
    "print(Person2.count)\n",
    "\n",
    "# 궁금한거\n",
    "# 1) 입력변수가 필요한 메서드에 입력변수 안넣는다면?\n",
    "obj2.work() # 필요한 입력변수만큼 변수가 입력되어야만 사용가능"
   ]
  },
  {
   "cell_type": "code",
   "execution_count": 21,
   "metadata": {},
   "outputs": [
    {
     "name": "stdout",
     "output_type": "stream",
     "text": [
      "2\n"
     ]
    }
   ],
   "source": [
    "# 2) class variable을 인스턴스로 받는다면?\n",
    "print(obj1.count) # class variable은 클래스 명 뿐 아니라 인스턴스로도 호출 가능"
   ]
  },
  {
   "cell_type": "code",
   "execution_count": 22,
   "metadata": {},
   "outputs": [
    {
     "name": "stdout",
     "output_type": "stream",
     "text": [
      "2\n"
     ]
    }
   ],
   "source": [
    "# 3) class method를 인스턴스로 받는다면?\n",
    "print(obj1.getCount()) #classmethod는 인스턴스로도 호출 가능"
   ]
  },
  {
   "cell_type": "code",
   "execution_count": 23,
   "metadata": {},
   "outputs": [
    {
     "name": "stdout",
     "output_type": "stream",
     "text": [
      "initialized with Park ,KIM\n",
      "Park\n",
      "Park KIM\n",
      "('Park', 'KIM')\n"
     ]
    },
    {
     "ename": "AttributeError",
     "evalue": "'PrivateMemberTest' object has no attribute '__printNames'",
     "output_type": "error",
     "traceback": [
      "\u001b[1;31m---------------------------------------------------------------------------\u001b[0m",
      "\u001b[1;31mAttributeError\u001b[0m                            Traceback (most recent call last)",
      "\u001b[1;32m<ipython-input-23-e27f79c1bdac>\u001b[0m in \u001b[0;36m<module>\u001b[1;34m\u001b[0m\n\u001b[0;32m     19\u001b[0m \u001b[0mprint\u001b[0m\u001b[1;33m(\u001b[0m\u001b[0mobj3\u001b[0m\u001b[1;33m.\u001b[0m\u001b[0mname1\u001b[0m\u001b[1;33m)\u001b[0m\u001b[1;33m\u001b[0m\u001b[1;33m\u001b[0m\u001b[0m\n\u001b[0;32m     20\u001b[0m \u001b[0mprint\u001b[0m\u001b[1;33m(\u001b[0m\u001b[0mobj3\u001b[0m\u001b[1;33m.\u001b[0m\u001b[0mgetNames\u001b[0m\u001b[1;33m(\u001b[0m\u001b[1;33m)\u001b[0m\u001b[1;33m)\u001b[0m\u001b[1;33m\u001b[0m\u001b[1;33m\u001b[0m\u001b[0m\n\u001b[1;32m---> 21\u001b[1;33m \u001b[0mprint\u001b[0m\u001b[1;33m(\u001b[0m\u001b[0mobj3\u001b[0m\u001b[1;33m.\u001b[0m\u001b[0m__printNames\u001b[0m\u001b[1;33m(\u001b[0m\u001b[1;33m)\u001b[0m\u001b[1;33m)\u001b[0m \u001b[1;31m# error 발생\u001b[0m\u001b[1;33m\u001b[0m\u001b[1;33m\u001b[0m\u001b[0m\n\u001b[0m\u001b[0;32m     22\u001b[0m \u001b[0mprint\u001b[0m\u001b[1;33m(\u001b[0m\u001b[0mobj\u001b[0m\u001b[1;33m.\u001b[0m\u001b[0m__name2\u001b[0m\u001b[1;33m)\u001b[0m         \u001b[1;31m# error 발생\u001b[0m\u001b[1;33m\u001b[0m\u001b[1;33m\u001b[0m\u001b[0m\n",
      "\u001b[1;31mAttributeError\u001b[0m: 'PrivateMemberTest' object has no attribute '__printNames'"
     ]
    }
   ],
   "source": [
    "# 4. private variable, method \n",
    "# : 멤버변수 멤버메서드를 통해 외부 접근 불가능한 private 변수, 메서드 설정\n",
    "# : 클래스 내부에서만 변형 혹은 사용 가능\n",
    "\n",
    "class PrivateMemberTest:\n",
    "    def __init__(self, name1, name2):\n",
    "        self.name1 = name1\n",
    "        self.__name2 = name2  # private member variable\n",
    "        print(\"initialized with \" + name1 + \" ,\" + name2)\n",
    "    def getNames(self):\n",
    "        self.__printNames()\n",
    "        return self.name1, self.__name2\n",
    "    def __printNames(self): # private member method\n",
    "        print(self.name1, self.__name2)\n",
    "\n",
    "# 인스턴스 생성\n",
    "obj3 = PrivateMemberTest (\"Park\", \"KIM\")\n",
    "\n",
    "print(obj3.name1)\n",
    "print(obj3.getNames())\n",
    "print(obj3.__printNames()) # error 발생\n",
    "print(obj.__name2)         # error 발생"
   ]
  },
  {
   "cell_type": "code",
   "execution_count": 24,
   "metadata": {},
   "outputs": [
    {
     "name": "stdout",
     "output_type": "stream",
     "text": [
      "[def]  LEE\n",
      "[SameTest]  LEE\n",
      "[def]  KIM\n",
      "[SameTest]  KIM\n"
     ]
    }
   ],
   "source": [
    "# 5. 외부함수와 클래스 메서드 이름이 같은 경우\n",
    "# self를 붙이지 않고 호출하면 동일한 이름의 외부 함수 호출됨.\n",
    "\n",
    "def print_name(name):\n",
    "    print(\"[def] \", name)\n",
    "    \n",
    "class SameTest:\n",
    "    def __init__(self):\n",
    "        # 아무것도 하지 않기때문에 pass \n",
    "        pass\n",
    "    \n",
    "    # 외부함수와 동일한 이름으로 method 정의\n",
    "    def print_name(self, name):\n",
    "        print(\"[SameTest] \", name)\n",
    "    def call_test(self):\n",
    "        # 외부함수 호출\n",
    "        print_name(\"KIM\")\n",
    "        # 클래스 내부 메서드 호출\n",
    "        self.print_name(\"KIM\")\n",
    "\n",
    "# 클래스에 대한 object 생성\n",
    "obj4 = SameTest()\n",
    "\n",
    "# 외부함수 호출\n",
    "print_name(\"LEE\")\n",
    "\n",
    "# 클래스 메서드 호출\n",
    "obj4.print_name(\"LEE\")\n",
    "\n",
    "# 클래서 call_test 메서드 호출\n",
    "obj4.call_test()"
   ]
  },
  {
   "cell_type": "code",
   "execution_count": 26,
   "metadata": {},
   "outputs": [
    {
     "name": "stdout",
     "output_type": "stream",
     "text": [
      "list index out of range\n",
      "0\n"
     ]
    }
   ],
   "source": [
    "# <exception> :예외처리\n",
    "# try, except, finally 함께 사용\n",
    "# try 블록에서 에러 발생시 except 문으로 이동해 예외 처리 수행\n",
    "# 발생된 exception을 그냠 무시할 때는 pass, 에러를 던지기 위해서는 raise 문 사용\n",
    "# finally 블럭은 try 블럭이 정상적으로 실행되든 아니든, error에 의한 exception이 실행되든 항상 마지막에 실행됨\n",
    "\n",
    "def calc(list_data):\n",
    "    sum = 0\n",
    "    try:\n",
    "        sum = list_data[0] + list_data[1] + list_data[2]\n",
    "        \n",
    "        if sum < 0:\n",
    "            raise Exception(\"Sum is minus\")\n",
    "    except IndexError as err:\n",
    "        print(str(err))\n",
    "    except Exception as err:\n",
    "        print(str(err))\n",
    "    finally:\n",
    "        print(sum)\n",
    "\n",
    "calc([1,2]) #index error 발생 "
   ]
  },
  {
   "cell_type": "code",
   "execution_count": 27,
   "metadata": {},
   "outputs": [
    {
     "name": "stdout",
     "output_type": "stream",
     "text": [
      "Sum is minus\n",
      "-97\n"
     ]
    }
   ],
   "source": [
    "calc([1, 2, -100]) # 인위적인 exception 발생"
   ]
  },
  {
   "cell_type": "code",
   "execution_count": 32,
   "metadata": {
    "scrolled": true
   },
   "outputs": [],
   "source": [
    "# <with>\n",
    "# 일반적으로 file 혹은 session을 사용하는 순서는 다음과 같음\n",
    "# open() => read() 혹은 write() => close()\n",
    "# 하지만 with를 사용하면 명시적으로 close()를 해주지 않아도 자동으로 리소스 close()\n",
    "# 텐서플로우의 session 사용시 자주 사용됨\n",
    "\n",
    "# 일반적인 방법\n",
    "f = open(\"./file_test\", 'w')\n",
    "f.write(\"Hello, Python !!!\")\n",
    "f.close()"
   ]
  },
  {
   "cell_type": "code",
   "execution_count": 33,
   "metadata": {},
   "outputs": [],
   "source": [
    "# with 구문 사용\n",
    "with open(\"./file_test2\", 'w') as f:\n",
    "    f.write(\"Hello, Python !!!\")"
   ]
  }
 ],
 "metadata": {
  "kernelspec": {
   "display_name": "virEnv",
   "language": "python",
   "name": "virenv"
  },
  "language_info": {
   "codemirror_mode": {
    "name": "ipython",
    "version": 3
   },
   "file_extension": ".py",
   "mimetype": "text/x-python",
   "name": "python",
   "nbconvert_exporter": "python",
   "pygments_lexer": "ipython3",
   "version": "3.7.5"
  }
 },
 "nbformat": 4,
 "nbformat_minor": 2
}
