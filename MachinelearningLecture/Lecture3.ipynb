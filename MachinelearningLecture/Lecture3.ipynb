{
 "cells": [
  {
   "cell_type": "code",
   "execution_count": 1,
   "metadata": {},
   "outputs": [
    {
     "name": "stdout",
     "output_type": "stream",
     "text": [
      "a == 1\n",
      "positive number\n"
     ]
    }
   ],
   "source": [
    "# 조건문과 반복문\n",
    "\n",
    "# <조건문 if>\n",
    "# 1. if condition:\n",
    "# if, elif, else로 구성되며 각각 조건 첫줄 마지막에 ':' 사용\n",
    "a = 1\n",
    "\n",
    "if a > 0:\n",
    "    print(\"a ==\", a)\n",
    "    print(\"positive number\")\n",
    "elif a == 0:\n",
    "    print(\"a ==\", a)\n",
    "    print(\"zero\")\n",
    "else:\n",
    "    print(\"a ==\", a)\n",
    "    print(\"negative number\")"
   ]
  },
  {
   "cell_type": "code",
   "execution_count": 2,
   "metadata": {},
   "outputs": [
    {
     "name": "stdout",
     "output_type": "stream",
     "text": [
      "45 is not in list_data\n",
      "key1 is in dict_data\n"
     ]
    }
   ],
   "source": [
    "# 2. if condition in list, dict...:\n",
    "\n",
    "list_data = [10,20,30,40,50]\n",
    "dict_data = { 'key1':1, 'key2':2}\n",
    "\n",
    "if 45 in list_data:\n",
    "    print(\"45 is in list_data\")\n",
    "else:\n",
    "    print(\"45 is not in list_data\")\n",
    "\n",
    "if 'key1' in dict_data:\n",
    "    print(\"key1 is in dict_data\")\n",
    "else:\n",
    "    print(\"key1 is not in dict_data\")\n",
    "\n",
    "# 파이썬에서는 코딩블럭 표시하기 위해 들여쓰기(indentation)를 사용\n",
    "# 동일한 블럭은 동일한 갯수의 공백 사용 (공백과 탭 혼용 사용시 indentation error 발생)"
   ]
  },
  {
   "cell_type": "code",
   "execution_count": 3,
   "metadata": {},
   "outputs": [
    {
     "name": "stdout",
     "output_type": "stream",
     "text": [
      "0  1  2  3  4  5  6  7  8  9  "
     ]
    }
   ],
   "source": [
    "# <반복문 for>\n",
    "# 1. for variable in range(...):\n",
    "for data in range(10): # range() 함수는 시작값~마지막값-1\n",
    "    print(data, \" \", end='') \n",
    "    #여기서 end=''를 사용하는 이유는 줄 바꾸기 없이 값을 표현하라는 뜻"
   ]
  },
  {
   "cell_type": "code",
   "execution_count": 4,
   "metadata": {},
   "outputs": [
    {
     "name": "stdout",
     "output_type": "stream",
     "text": [
      "0  1  2  3  4  5  6  7  8  9  "
     ]
    }
   ],
   "source": [
    "for data in range(0,10):\n",
    "    print(data, \" \", end='') "
   ]
  },
  {
   "cell_type": "code",
   "execution_count": 5,
   "metadata": {},
   "outputs": [
    {
     "name": "stdout",
     "output_type": "stream",
     "text": [
      "0  2  4  6  8  "
     ]
    }
   ],
   "source": [
    "for data in range(0, 10, 2): # range(시작값, 끝값, 증가값)\n",
    "    print(data, \" \", end='') "
   ]
  },
  {
   "cell_type": "code",
   "execution_count": 6,
   "metadata": {},
   "outputs": [
    {
     "name": "stdout",
     "output_type": "stream",
     "text": [
      "10  20  30  40  50  "
     ]
    }
   ],
   "source": [
    "# 2. for variable in list, dict...:\n",
    "list_data = [10,20,30,40,50]\n",
    "\n",
    "for data in list_data:\n",
    "    print(data, \" \", end= '')"
   ]
  },
  {
   "cell_type": "code",
   "execution_count": 7,
   "metadata": {},
   "outputs": [
    {
     "name": "stdout",
     "output_type": "stream",
     "text": [
      "key1  key2  "
     ]
    }
   ],
   "source": [
    "dict_data = { 'key1':1, 'key2':2}\n",
    "\n",
    "for data in dict_data:\n",
    "    print(data, \" \", end='')"
   ]
  },
  {
   "cell_type": "code",
   "execution_count": 8,
   "metadata": {},
   "outputs": [
    {
     "name": "stdout",
     "output_type": "stream",
     "text": [
      "key1   1\n",
      "key2   2\n"
     ]
    }
   ],
   "source": [
    "for key, value in dict_data.items():\n",
    "    print(key, \" \", value)"
   ]
  },
  {
   "cell_type": "code",
   "execution_count": 9,
   "metadata": {},
   "outputs": [
    {
     "name": "stdout",
     "output_type": "stream",
     "text": [
      "[0, 1, 4, 9, 16]\n"
     ]
    }
   ],
   "source": [
    "# 3. 반복문 - list comprehension\n",
    "#    list의 [] 내부에 for 구문을 이용해 리스트 요소를 정의하는 방법\n",
    "list_data = [ x**2 for x in range(5)]\n",
    "print(list_data)"
   ]
  },
  {
   "cell_type": "code",
   "execution_count": 10,
   "metadata": {},
   "outputs": [
    {
     "name": "stdout",
     "output_type": "stream",
     "text": [
      "all_data == [[1, 10], [2, 15], [3, 30], [4, 55]]\n",
      "x_data == [1, 2, 3, 4]\n",
      "y_data == [10, 15, 30, 55]\n"
     ]
    }
   ],
   "source": [
    "raw_data = [[1,10], [2,15], [3, 30], [4,55]]\n",
    "\n",
    "all_data = [ x for x in raw_data]\n",
    "x_data = [ x[0] for x in raw_data]\n",
    "y_data = [ x[1] for x in raw_data]\n",
    "\n",
    "print(\"all_data ==\", all_data)\n",
    "print(\"x_data ==\", x_data)\n",
    "print(\"y_data ==\", y_data)"
   ]
  },
  {
   "cell_type": "code",
   "execution_count": 11,
   "metadata": {},
   "outputs": [
    {
     "name": "stdout",
     "output_type": "stream",
     "text": [
      "[0, 2, 4, 6, 8]\n"
     ]
    }
   ],
   "source": [
    "# Quiz 짝수를 출력하는 다음 코드를 list comprehension으로 구현\n",
    "\n",
    "quiz_data = [x for x in range (0,10,2)]\n",
    "\n",
    "print(quiz_data)"
   ]
  },
  {
   "cell_type": "code",
   "execution_count": 12,
   "metadata": {},
   "outputs": [
    {
     "name": "stdout",
     "output_type": "stream",
     "text": [
      "data == 5\n",
      "data == 4\n",
      "data == 3\n",
      "data == 2\n",
      "data == 1\n",
      "data == 0\n"
     ]
    }
   ],
   "source": [
    "# <반복문 while, break, continue>\n",
    "# 1. while condition\n",
    "data = 5\n",
    "while data >= 0:\n",
    "    print(\"data ==\", data)\n",
    "    data -= 1"
   ]
  },
  {
   "cell_type": "code",
   "execution_count": 13,
   "metadata": {},
   "outputs": [
    {
     "name": "stdout",
     "output_type": "stream",
     "text": [
      "data == 5\n",
      "continue here\n",
      "data == 4\n",
      "continue here\n",
      "data == 3\n",
      "break here\n"
     ]
    }
   ],
   "source": [
    "# 2. break, continue\n",
    "data = 5\n",
    "while data >=0:\n",
    "    print(\"data ==\", data)\n",
    "    data -= 1\n",
    "    if data == 2 :\n",
    "        print(\"break here\")\n",
    "        break\n",
    "    else:\n",
    "        print(\"continue here\")\n",
    "        continue"
   ]
  },
  {
   "cell_type": "code",
   "execution_count": null,
   "metadata": {},
   "outputs": [],
   "source": []
  }
 ],
 "metadata": {
  "kernelspec": {
   "display_name": "virEnv",
   "language": "python",
   "name": "virenv"
  },
  "language_info": {
   "codemirror_mode": {
    "name": "ipython",
    "version": 3
   },
   "file_extension": ".py",
   "mimetype": "text/x-python",
   "name": "python",
   "nbconvert_exporter": "python",
   "pygments_lexer": "ipython3",
   "version": "3.7.5"
  }
 },
 "nbformat": 4,
 "nbformat_minor": 2
}
