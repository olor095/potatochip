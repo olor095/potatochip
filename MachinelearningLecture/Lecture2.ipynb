{
 "cells": [
  {
   "cell_type": "code",
   "execution_count": 1,
   "metadata": {},
   "outputs": [],
   "source": [
    "# Data type\n",
    "\n",
    "# <List[]: 다른 프로그래밍 언어의 '배열(array)'와 유사한 성질>\n",
    "# 1. List 생성\n",
    "a =[10,20,30,40,50]\n",
    "# 2. List의 Index (데이터 위치 참조)\n",
    "#    0,1,2,3,... (정순) / -1,-2,-3,...(역순)"
   ]
  },
  {
   "cell_type": "code",
   "execution_count": 2,
   "metadata": {},
   "outputs": [
    {
     "name": "stdout",
     "output_type": "stream",
     "text": [
      "a[0] == 10 , a[2] == 30 , a[4] == 50\n",
      "a[-1] == 50 , a[-2] == 40 , a[-5] == 10\n"
     ]
    }
   ],
   "source": [
    "print(\"a[0] ==\", a[0], \", a[2] ==\", a[2], \", a[4] ==\", a[4])\n",
    "print(\"a[-1] ==\", a[-1], \", a[-2] ==\", a[-2], \", a[-5] ==\", a[-5])"
   ]
  },
  {
   "cell_type": "code",
   "execution_count": 3,
   "metadata": {},
   "outputs": [
    {
     "name": "stdout",
     "output_type": "stream",
     "text": [
      "b[0] == 10 , b[2] == Hello , b[3] == [True, 3.14]\n",
      "b[-1] == [True, 3.14] , b[-2] == Hello , b[-4] == 10\n"
     ]
    }
   ],
   "source": [
    "# 3. List는 각 요소의 데이터 타입을 다르게 생성, 혹은 또 다른 리스트 포함 가능\n",
    "b = [10,20,\"Hello\",[True, 3.14]]\n",
    "\n",
    "#    b[3] 또는 b[-1] 값은 [True, 3.14] 리스트 전체\n",
    "print(\"b[0] ==\", b[0], \", b[2] ==\", b[2], \", b[3] ==\", b[3])\n",
    "print(\"b[-1] ==\", b[-1], \", b[-2] ==\", b[-2], \", b[-4] ==\", b[-4])"
   ]
  },
  {
   "cell_type": "code",
   "execution_count": 4,
   "metadata": {},
   "outputs": [
    {
     "name": "stdout",
     "output_type": "stream",
     "text": [
      "b[3][0] == True , b[3][1] == 3.14\n",
      "b[-1][-1] == 3.14 , b[-1][-2] == True\n"
     ]
    }
   ],
   "source": [
    "#    List 내부에 List를 포함하는 경우 각각 요소만 불러오는 것도 가능\n",
    "print(\"b[3][0] ==\", b[3][0], \", b[3][1] ==\", b[3][1])\n",
    "print(\"b[-1][-1] ==\", b[-1][-1], \", b[-1][-2] ==\", b[-1][-2])"
   ]
  },
  {
   "cell_type": "code",
   "execution_count": 5,
   "metadata": {},
   "outputs": [
    {
     "name": "stdout",
     "output_type": "stream",
     "text": [
      "[100, 200, 300]\n"
     ]
    }
   ],
   "source": [
    "# 4. List에 데이터 추가: append\n",
    "#    머신러닝에서 정확도 계산, 손실함수 값 저장에 사용\n",
    "\n",
    "c = [] # 빈 list 생성\n",
    "c.append(100), c.append(200), c.append(300)\n",
    "print(c)"
   ]
  },
  {
   "cell_type": "code",
   "execution_count": 6,
   "metadata": {},
   "outputs": [
    {
     "name": "stdout",
     "output_type": "stream",
     "text": [
      "a[0:2] == [10, 20] , a[1:] == [20, 30, 40, 50]\n",
      "a[:3] == [10, 20, 30] , a[:-2] == [10, 20, 30]\n",
      "a[:] == [10, 20, 30, 40, 50]\n"
     ]
    }
   ],
   "source": [
    "# 5. 슬라이싱(:): List에서 번위를 지정하는 방법\n",
    "\n",
    "a = [10,20,30,40,50]\n",
    "\n",
    "# a[0:2] => 인덱스 0부터 2-1 까지, a[1:] => 인덱스 1부터 끝까지\n",
    "# a[:3] => 인덱스 처음부터 3-1 까지, a[:-2] => 인덱스 처음부터 -2-1 까지\n",
    "# a[:] => 인덱스 처음부터 끝까지\n",
    "\n",
    "print(\"a[0:2] ==\" , a[0:2], \", a[1:] ==\", a[1:])\n",
    "print(\"a[:3] ==\" , a[:3], \", a[:-2] ==\", a[:-2])\n",
    "print(\"a[:] ==\", a[:])"
   ]
  },
  {
   "cell_type": "code",
   "execution_count": 7,
   "metadata": {},
   "outputs": [],
   "source": [
    "#<Tuple(): 내부원소 변경 불가능한 데이터>\n",
    "a=(10,20,30,40,50)"
   ]
  },
  {
   "cell_type": "code",
   "execution_count": 8,
   "metadata": {},
   "outputs": [
    {
     "name": "stdout",
     "output_type": "stream",
     "text": [
      "a[0] == 10 , a[-2] == 40 , a[:] == (10, 20, 30, 40, 50)\n",
      "a[0:2] == (10, 20) , a[1:] == (20, 30, 40, 50)\n"
     ]
    }
   ],
   "source": [
    "print(\"a[0] ==\", a[0], \", a[-2] ==\", a[-2], \", a[:] ==\", a[:])\n",
    "print(\"a[0:2] ==\", a[0:2], \", a[1:] ==\", a[1:])"
   ]
  },
  {
   "cell_type": "code",
   "execution_count": 9,
   "metadata": {},
   "outputs": [
    {
     "ename": "TypeError",
     "evalue": "'tuple' object does not support item assignment",
     "output_type": "error",
     "traceback": [
      "\u001b[1;31m---------------------------------------------------------------------------\u001b[0m",
      "\u001b[1;31mTypeError\u001b[0m                                 Traceback (most recent call last)",
      "\u001b[1;32m<ipython-input-9-cb7980cd8e6d>\u001b[0m in \u001b[0;36m<module>\u001b[1;34m\u001b[0m\n\u001b[1;32m----> 1\u001b[1;33m \u001b[0ma\u001b[0m\u001b[1;33m[\u001b[0m\u001b[1;36m0\u001b[0m\u001b[1;33m]\u001b[0m \u001b[1;33m=\u001b[0m \u001b[1;36m100\u001b[0m \u001b[1;31m#Tuple 데이터 변경시도 => 에러발생\u001b[0m\u001b[1;33m\u001b[0m\u001b[1;33m\u001b[0m\u001b[0m\n\u001b[0m",
      "\u001b[1;31mTypeError\u001b[0m: 'tuple' object does not support item assignment"
     ]
    }
   ],
   "source": [
    "a[0] = 100 #Tuple 데이터 변경시도 => 에러발생"
   ]
  },
  {
   "cell_type": "code",
   "execution_count": 10,
   "metadata": {},
   "outputs": [],
   "source": [
    "#<Dictionary: key와 value를 한쌍으로 해서 데이터를 저장>\n",
    "#Dictionary 생성\n",
    "score = { \"KIM\":90, \"LEE\":85, \"JUN\":95} "
   ]
  },
  {
   "cell_type": "code",
   "execution_count": 11,
   "metadata": {
    "scrolled": true
   },
   "outputs": [
    {
     "name": "stdout",
     "output_type": "stream",
     "text": [
      "score['KIM'] == 90\n"
     ]
    }
   ],
   "source": [
    "#원소접근\n",
    "print(\"score['KIM'] ==\", score['KIM'])"
   ]
  },
  {
   "cell_type": "code",
   "execution_count": 12,
   "metadata": {},
   "outputs": [
    {
     "name": "stdout",
     "output_type": "stream",
     "text": [
      "{'KIM': 90, 'LEE': 85, 'JUN': 95, 'HAN': 100}\n"
     ]
    }
   ],
   "source": [
    "#새 원소 추가 => 입력한 순서대로 데이터가 들어가진 않으므로 주의\n",
    "score['HAN'] = 100\n",
    "print(score)"
   ]
  },
  {
   "cell_type": "code",
   "execution_count": 13,
   "metadata": {},
   "outputs": [
    {
     "name": "stdout",
     "output_type": "stream",
     "text": [
      "score key == dict_keys(['KIM', 'LEE', 'JUN', 'HAN'])\n",
      "score value == dict_values([90, 85, 95, 100])\n",
      "score items == dict_items([('KIM', 90), ('LEE', 85), ('JUN', 95), ('HAN', 100)])\n"
     ]
    }
   ],
   "source": [
    "#원소 출력: key, value, (key, value)\n",
    "print(\"score key ==\", score.keys())\n",
    "print(\"score value ==\", score.values())\n",
    "print(\"score items ==\", score.items())"
   ]
  },
  {
   "cell_type": "code",
   "execution_count": 16,
   "metadata": {},
   "outputs": [],
   "source": [
    "#<String(\"\",''): 문자열 내의 각각의 값도 문자열로 인식\n",
    "a = 'A73,CD'"
   ]
  },
  {
   "cell_type": "code",
   "execution_count": 17,
   "metadata": {},
   "outputs": [
    {
     "data": {
      "text/plain": [
       "'7'"
      ]
     },
     "execution_count": 17,
     "metadata": {},
     "output_type": "execute_result"
    }
   ],
   "source": [
    "a[1] # a[1]은 숫자 7이 아닌 문자열 7"
   ]
  },
  {
   "cell_type": "code",
   "execution_count": 18,
   "metadata": {
    "scrolled": true
   },
   "outputs": [
    {
     "data": {
      "text/plain": [
       "'A73,CD, EFG'"
      ]
     },
     "execution_count": 18,
     "metadata": {},
     "output_type": "execute_result"
    }
   ],
   "source": [
    "# + 연산자 이용해 string 내부 문자열 추가\n",
    "a = a + ', EFG'\n",
    "a"
   ]
  },
  {
   "cell_type": "code",
   "execution_count": 19,
   "metadata": {},
   "outputs": [
    {
     "name": "stdout",
     "output_type": "stream",
     "text": [
      "['A73', 'CD', ' EFG']\n"
     ]
    }
   ],
   "source": [
    "# split(): 특정 separator를 기준으로 문자열을 분리해 list로 리턴\n",
    "b = a.split(',')\n",
    "print(b)"
   ]
  },
  {
   "cell_type": "code",
   "execution_count": 20,
   "metadata": {},
   "outputs": [
    {
     "name": "stdout",
     "output_type": "stream",
     "text": [
      "<class 'list'> <class 'tuple'> <class 'dict'> <class 'str'> <class 'list'>\n",
      "5 5 2 12 3\n"
     ]
    },
    {
     "ename": "NameError",
     "evalue": "name 'size' is not defined",
     "output_type": "error",
     "traceback": [
      "\u001b[1;31m---------------------------------------------------------------------------\u001b[0m",
      "\u001b[1;31mNameError\u001b[0m                                 Traceback (most recent call last)",
      "\u001b[1;32m<ipython-input-20-210cb4dc8920>\u001b[0m in \u001b[0;36m<module>\u001b[1;34m\u001b[0m\n\u001b[0;32m     12\u001b[0m \u001b[0mprint\u001b[0m\u001b[1;33m(\u001b[0m\u001b[0mtype\u001b[0m\u001b[1;33m(\u001b[0m\u001b[0ma\u001b[0m\u001b[1;33m)\u001b[0m\u001b[1;33m,\u001b[0m \u001b[0mtype\u001b[0m\u001b[1;33m(\u001b[0m\u001b[0mb\u001b[0m\u001b[1;33m)\u001b[0m\u001b[1;33m,\u001b[0m \u001b[0mtype\u001b[0m\u001b[1;33m(\u001b[0m\u001b[0mc\u001b[0m\u001b[1;33m)\u001b[0m\u001b[1;33m,\u001b[0m \u001b[0mtype\u001b[0m\u001b[1;33m(\u001b[0m\u001b[0md\u001b[0m\u001b[1;33m)\u001b[0m\u001b[1;33m,\u001b[0m \u001b[0mtype\u001b[0m\u001b[1;33m(\u001b[0m\u001b[0me\u001b[0m\u001b[1;33m)\u001b[0m\u001b[1;33m)\u001b[0m\u001b[1;33m\u001b[0m\u001b[1;33m\u001b[0m\u001b[0m\n\u001b[0;32m     13\u001b[0m \u001b[0mprint\u001b[0m\u001b[1;33m(\u001b[0m\u001b[0mlen\u001b[0m\u001b[1;33m(\u001b[0m\u001b[0ma\u001b[0m\u001b[1;33m)\u001b[0m\u001b[1;33m,\u001b[0m \u001b[0mlen\u001b[0m\u001b[1;33m(\u001b[0m\u001b[0mb\u001b[0m\u001b[1;33m)\u001b[0m\u001b[1;33m,\u001b[0m \u001b[0mlen\u001b[0m\u001b[1;33m(\u001b[0m\u001b[0mc\u001b[0m\u001b[1;33m)\u001b[0m\u001b[1;33m,\u001b[0m \u001b[0mlen\u001b[0m\u001b[1;33m(\u001b[0m\u001b[0md\u001b[0m\u001b[1;33m)\u001b[0m\u001b[1;33m,\u001b[0m \u001b[0mlen\u001b[0m\u001b[1;33m(\u001b[0m\u001b[0me\u001b[0m\u001b[1;33m)\u001b[0m\u001b[1;33m)\u001b[0m\u001b[1;33m\u001b[0m\u001b[1;33m\u001b[0m\u001b[0m\n\u001b[1;32m---> 14\u001b[1;33m \u001b[0mprint\u001b[0m\u001b[1;33m(\u001b[0m\u001b[0msize\u001b[0m\u001b[1;33m(\u001b[0m\u001b[0me\u001b[0m\u001b[1;33m)\u001b[0m\u001b[1;33m)\u001b[0m \u001b[1;31m#len()과 size()의 차이\u001b[0m\u001b[1;33m\u001b[0m\u001b[1;33m\u001b[0m\u001b[0m\n\u001b[0m",
      "\u001b[1;31mNameError\u001b[0m: name 'size' is not defined"
     ]
    }
   ],
   "source": [
    "#<Useful function>\n",
    "# type(data): 입력 data의 데이터 타입을 알려주는 함수\n",
    "# len(data): 입력 데이터의 길이(요소의 개수)를 알려주는 함수\n",
    "# size(data): 모든 원소의 개수를 알려주는 함수\n",
    "\n",
    "a = [10,20,30,40,50]\n",
    "b = (10,20,30,40,50)\n",
    "c = { \"KIM\":90, \"LEE\":80}\n",
    "d = 'Seoul, Korea'\n",
    "e = [[100, 200], [300, 400], [500, 600]]\n",
    "\n",
    "print(type(a), type(b), type(c), type(d), type(e))\n",
    "print(len(a), len(b), len(c), len(d), len(e))\n",
    "print(size(e)) #len()과 size()의 차이\n",
    "#왜 size 함수가 저장되어있지 않다고 하는지 의문스럽당 ^^;"
   ]
  },
  {
   "cell_type": "code",
   "execution_count": 21,
   "metadata": {},
   "outputs": [
    {
     "name": "stdout",
     "output_type": "stream",
     "text": [
      "['H', 'e', 'l', 'l', 'o'] ['KIM', 'LEE'] [90, 80] [('KIM', 90), ('LEE', 80)]\n"
     ]
    }
   ],
   "source": [
    "# list(data): 입력 data를 리스트로 만들어 리턴하는 함수\n",
    "a = 'Hello'\n",
    "b = {\"KIM\":90, \"LEE\":80}\n",
    "\n",
    "print(list(a), list(b.keys()), list(b.values()), list(b.items()))"
   ]
  },
  {
   "cell_type": "code",
   "execution_count": 22,
   "metadata": {},
   "outputs": [
    {
     "data": {
      "text/plain": [
       "'3.14'"
      ]
     },
     "execution_count": 22,
     "metadata": {},
     "output_type": "execute_result"
    }
   ],
   "source": [
    "# str(data): 입력 data를 문자열로 변환해 리턴하는 함수\n",
    "str(3.14)"
   ]
  },
  {
   "cell_type": "code",
   "execution_count": 23,
   "metadata": {},
   "outputs": [
    {
     "data": {
      "text/plain": [
       "'100'"
      ]
     },
     "execution_count": 23,
     "metadata": {},
     "output_type": "execute_result"
    }
   ],
   "source": [
    "str('100')"
   ]
  },
  {
   "cell_type": "code",
   "execution_count": 24,
   "metadata": {},
   "outputs": [
    {
     "data": {
      "text/plain": [
       "'[1, 2, 3]'"
      ]
     },
     "execution_count": 24,
     "metadata": {},
     "output_type": "execute_result"
    }
   ],
   "source": [
    "str([1,2,3])"
   ]
  },
  {
   "cell_type": "code",
   "execution_count": 25,
   "metadata": {},
   "outputs": [
    {
     "data": {
      "text/plain": [
       "100"
      ]
     },
     "execution_count": 25,
     "metadata": {},
     "output_type": "execute_result"
    }
   ],
   "source": [
    "# int(data): '문자열 형태로 입력되는 숫자'나 '소수점이 있는 숫자' 등을 정수로 리턴하는 함수\n",
    "int('100')"
   ]
  },
  {
   "cell_type": "code",
   "execution_count": 26,
   "metadata": {},
   "outputs": [
    {
     "data": {
      "text/plain": [
       "3"
      ]
     },
     "execution_count": 26,
     "metadata": {},
     "output_type": "execute_result"
    }
   ],
   "source": [
    "int(3.14)"
   ]
  },
  {
   "cell_type": "code",
   "execution_count": null,
   "metadata": {},
   "outputs": [],
   "source": []
  }
 ],
 "metadata": {
  "kernelspec": {
   "display_name": "virEnv",
   "language": "python",
   "name": "virenv"
  },
  "language_info": {
   "codemirror_mode": {
    "name": "ipython",
    "version": 3
   },
   "file_extension": ".py",
   "mimetype": "text/x-python",
   "name": "python",
   "nbconvert_exporter": "python",
   "pygments_lexer": "ipython3",
   "version": "3.7.5"
  }
 },
 "nbformat": 4,
 "nbformat_minor": 2
}
