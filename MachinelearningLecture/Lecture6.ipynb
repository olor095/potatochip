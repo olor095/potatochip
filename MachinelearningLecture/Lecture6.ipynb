{
 "cells": [
  {
   "cell_type": "code",
   "execution_count": 1,
   "metadata": {},
   "outputs": [
    {
     "data": {
      "text/plain": [
       "[[1, 0], [0, 1], [1, 1], [1, 1]]"
      ]
     },
     "execution_count": 1,
     "metadata": {},
     "output_type": "execute_result"
    }
   ],
   "source": [
    "# numpy(1)\n",
    "\n",
    "# <numpy>\n",
    "# : 벡터, 행렬등을 표현하고 연산할 때 반드시 필요한 라이브러리\n",
    "# numpy vs. list\n",
    "# : 머신러닝에서 이미지 데이터를 행렬로 변환하는것이 중요\n",
    "# : 행렬을 나타내기 위해서 list를 사용할 수도 있지만, 행렬연산이 직관적이지 않고 오류가능성이 있어서 numpy 사용은 필수임\n",
    "\n",
    "# 행렬연산\n",
    "\n",
    "import numpy as np\n",
    "\n",
    "# list로 행렬 표현\n",
    "A = [ [1, 0], [0, 1] ]\n",
    "B = [ [1, 1], [1, 1] ]\n",
    "A + B # 행렬연산이 아니라 리스트 연산이므로, 단순히 리스트에 요소가 추가되는 형식으로 표현됨"
   ]
  },
  {
   "cell_type": "code",
   "execution_count": 4,
   "metadata": {},
   "outputs": [
    {
     "data": {
      "text/plain": [
       "array([[2, 1],\n",
       "       [1, 2]])"
      ]
     },
     "execution_count": 4,
     "metadata": {},
     "output_type": "execute_result"
    }
   ],
   "source": [
    "import numpy as np\n",
    "\n",
    "# numpy matrix, 직관적임\n",
    "A = np.array( [ [1, 0], [0, 1] ] )\n",
    "B = np.array( [ [1, 1], [1, 1] ] )\n",
    "A+B    # 행렬연산"
   ]
  },
  {
   "cell_type": "code",
   "execution_count": 6,
   "metadata": {},
   "outputs": [
    {
     "name": "stdout",
     "output_type": "stream",
     "text": [
      "A == [1 2 3] , B ==  [4 5 6]\n",
      "A.shape == (3,) , B.shape == (3,)\n",
      "A.ndim == 1 , B.ndim == 1\n"
     ]
    }
   ],
   "source": [
    "# 2. numpy vector (1차원 배열)\n",
    "# : np.array([])를 사용해 생성\n",
    "# : 머신러닝 코드 구현시, 연산을 위해서 vector, matrix 등의 형상(shape), 차원(dimension)을 확인하는 것이 필요함\n",
    "\n",
    "A = np.array([1,2,3])\n",
    "B = np.array([4,5,6])\n",
    "\n",
    "# vector A, B 출력\n",
    "print(\"A ==\", A, \", B == \", B)\n",
    "\n",
    "# vector A, B 형상 출력 => shape\n",
    "print(\"A.shape ==\", A.shape, \", B.shape ==\", B.shape)\n",
    "\n",
    "# vector A, B 차원 출력 => ndim\n",
    "print(\"A.ndim ==\", A.ndim, \", B.ndim ==\", B.ndim)"
   ]
  },
  {
   "cell_type": "code",
   "execution_count": 7,
   "metadata": {},
   "outputs": [
    {
     "name": "stdout",
     "output_type": "stream",
     "text": [
      "A + B == [5 7 9]\n",
      "A - B == [-3 -3 -3]\n",
      "A * B == [ 4 10 18]\n",
      "A / B == [0.25 0.4  0.5 ]\n"
     ]
    }
   ],
   "source": [
    "# 벡터 산술연산\n",
    "# : 벡터 각각 원소에 대한 산술연산으로 진행됨 (+, - ,X, /)\n",
    "\n",
    "print(\"A + B ==\", A+B)\n",
    "print(\"A - B ==\", A-B)\n",
    "print(\"A * B ==\", A*B)\n",
    "print(\"A / B ==\", A/B)"
   ]
  },
  {
   "cell_type": "code",
   "execution_count": 10,
   "metadata": {},
   "outputs": [
    {
     "name": "stdout",
     "output_type": "stream",
     "text": [
      "C.shape == (2, 3) D.shape == (2, 3)\n",
      "C.ndim == 2 , D.ndim == 2\n"
     ]
    }
   ],
   "source": [
    "# 3. numpy matrix (행렬)\n",
    "# : np.array([[...], [...], [...], ...])를 사용해 생성\n",
    "\n",
    "C = np.array([[1,2,3],[4,5,6]])\n",
    "D = np.array([[-1,-2,-3], [-4,-5,-6]])\n",
    "\n",
    "# matrix C, D의 형상 출력 => shape\n",
    "print(\"C.shape ==\", C.shape, \"D.shape ==\", D.shape)\n",
    "\n",
    "# matrix C, D 차원 출력 => ndim\n",
    "print(\"C.ndim ==\", C.ndim, \", D.ndim ==\", D.ndim)"
   ]
  },
  {
   "cell_type": "code",
   "execution_count": 11,
   "metadata": {},
   "outputs": [
    {
     "name": "stdout",
     "output_type": "stream",
     "text": [
      "E.shape == (3,)\n",
      "E.shape == (1, 3)\n"
     ]
    }
   ],
   "source": [
    "# 형 변환 (reshape)\n",
    "# vector를 matrix로 변경하거나 matrix를 다른 형상의 matrix로 변경하기 위해 사용\n",
    "# reshape()\n",
    "\n",
    "# vector 생성\n",
    "E = np.array([1,2,3])\n",
    "\n",
    "# vector E 형상 출력 => shape\n",
    "print(\"E.shape ==\", E.shape)\n",
    "\n",
    "# vector를 (1,3) 행렬로 형 변환\n",
    "E = E.reshape(1,3)\n",
    "\n",
    "print(\"E.shape ==\", E.shape)"
   ]
  },
  {
   "cell_type": "code",
   "execution_count": null,
   "metadata": {},
   "outputs": [],
   "source": []
  }
 ],
 "metadata": {
  "kernelspec": {
   "display_name": "virEnv",
   "language": "python",
   "name": "virenv"
  },
  "language_info": {
   "codemirror_mode": {
    "name": "ipython",
    "version": 3
   },
   "file_extension": ".py",
   "mimetype": "text/x-python",
   "name": "python",
   "nbconvert_exporter": "python",
   "pygments_lexer": "ipython3",
   "version": "3.7.5"
  }
 },
 "nbformat": 4,
 "nbformat_minor": 2
}
