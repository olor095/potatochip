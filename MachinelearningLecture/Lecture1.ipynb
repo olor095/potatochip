{
 "cells": [
  {
   "cell_type": "code",
   "execution_count": null,
   "metadata": {},
   "outputs": [],
   "source": [
    "# 머신러닝: 데이터를 이용해 명시적으로 정의되지 않은 패턴을 학습해 미래결과 예측\n",
    "# 딥러닝: 신경망(Neural Network)을 통해 학습하는 알고리즘\n",
    "\n",
    "# 회귀(Refression): 연속적인 데이터를 학습해, 미래의 임의의 데이터 값 예측\n",
    "# 분류(Classification): 데이터 분포 학습을 통해, 미래의 데이터가 어느 분포에 해당하는지 예측\n",
    "# 딥려닝(Neural Network): 임계치(Threshold)를 넘는 경우 다음 뉴런으로 전달하는 방식\n",
    "\n"
   ]
  }
 ],
 "metadata": {
  "kernelspec": {
   "display_name": "virEnv",
   "language": "python",
   "name": "virenv"
  },
  "language_info": {
   "codemirror_mode": {
    "name": "ipython",
    "version": 3
   },
   "file_extension": ".py",
   "mimetype": "text/x-python",
   "name": "python",
   "nbconvert_exporter": "python",
   "pygments_lexer": "ipython3",
   "version": "3.7.5"
  }
 },
 "nbformat": 4,
 "nbformat_minor": 2
}
