{
 "cells": [
  {
   "cell_type": "code",
   "execution_count": 3,
   "metadata": {},
   "outputs": [
    {
     "name": "stdout",
     "output_type": "stream",
     "text": [
      "A.shape is == (2, 3)\n",
      "row_add.shape is == (1, 3)\n",
      "column_add.shape is == (2, 1)\n",
      "row_add is == \n",
      " [[10 20 30]\n",
      " [40 50 60]\n",
      " [70 80 90]]\n",
      "column_add is == \n",
      " [[  10   20   30 1000]\n",
      " [  40   50   60 2000]]\n"
     ]
    }
   ],
   "source": [
    "# numpy (3), matplotlib\n",
    "\n",
    "# 1. numpy concatenate\n",
    "# : 행렬에 행(row) 또는 열(column) 추가하기 위한 numpy.concatenate(...)\n",
    "# : 머신러닝의 회귀(regression) 코드 구현시 가중치와 바이어스를 별도로 구분하지 않고\n",
    "# : 하나의 행렬로 취급하기 위한 프로그래밍 기술\n",
    "\n",
    "import numpy as np\n",
    "\n",
    "# 행렬에 열과 행 추가\n",
    "\n",
    "A = np.array([ [10, 20, 30], [40, 50, 60] ])\n",
    "\n",
    "print(\"A.shape is ==\",A.shape)\n",
    "\n",
    "# 초기에 reshape을 해주지 않으면 vector로 인식하기 때문에 행렬 연산 불가!\n",
    "\n",
    "# A matrix에 행(row) 추가할 행렬. 1행 3열로 reshape\n",
    "row_add = np.array([70, 80, 90]).reshape(1, 3) \n",
    "print(\"row_add.shape is ==\", row_add.shape)\n",
    "\n",
    "# A matrix 에 열(column) 추가할 행렬. 2행 1열 로 생성\n",
    "column_add = np.array([1000, 2000]).reshape(2, 1)\n",
    "print(\"column_add.shape is ==\", column_add.shape)\n",
    "\n",
    "# numpy.concatenate 에서 axis = 0 => 행(row), axis = 1 => 열(column)\n",
    "\n",
    "# A 행렬에 row_add 행렬 추가\n",
    "B = np.concatenate((A, row_add), axis=0)     \n",
    "print(\"row_add is ==\", \"\\n\", B)\n",
    "\n",
    "\n",
    "# B 행렬에 column_add 행렬 추가\n",
    "C = np.concatenate((A, column_add), axis=1)    \n",
    "\n",
    "print(\"column_add is ==\", \"\\n\", C)\n",
    "\n",
    "#궁금한 점? 열과 행을 추가할 때 원하는 위치에 넣을 순 없는 것일까?"
   ]
  },
  {
   "cell_type": "code",
   "execution_count": 7,
   "metadata": {},
   "outputs": [
    {
     "name": "stdout",
     "output_type": "stream",
     "text": [
      "x_data.ndim =  2 , x_data.shape =  (25, 3)\n",
      "t_data.ndim =  2 , t_data.shape =  (25, 1)\n"
     ]
    }
   ],
   "source": [
    "# 2. numpy useful function\n",
    "# 1) numpy.loadtxt(...)\n",
    "#   : separator로 구분된 파일에서 데이터를 읽기 위한 함수\n",
    "#   : np.loadtxt(\"파일이름\", separator=',')\n",
    "#   : 여기서 리턴값은 행렬이기 때문에 인덱싱 혹은 슬라이싱을 이용해 데이터 분리할 필요 없음\n",
    "#   : 머신 러닝에서 입력데이터와 정답데이터를 분리하는 프로그래밍 기법\n",
    "\n",
    "loaded_data = np.loadtxt('./data-01.csv', delimiter=',', dtype=np.float32)\n",
    "\n",
    "x_data = loaded_data[ :, 0:-1] # 입력데이터\n",
    "t_data = loaded_data[ :, [-1]] # 정답데이터\n",
    "\n",
    "# 데이터 차원 및 shape 확인\n",
    "print(\"x_data.ndim = \", x_data.ndim, \", x_data.shape = \", x_data.shape)\n",
    "print(\"t_data.ndim = \", t_data.ndim, \", t_data.shape = \", t_data.shape)"
   ]
  },
  {
   "cell_type": "code",
   "execution_count": 8,
   "metadata": {},
   "outputs": [
    {
     "name": "stdout",
     "output_type": "stream",
     "text": [
      "random_number1 == [0.26559445 0.61536691 0.61205399] , random_number1.shape == (3,)\n",
      "random_number2 == [[0.76700919 0.22414088 0.21376252]] , random_number2.shape == (1, 3)\n",
      "random_number3 == [[0.23927535]\n",
      " [0.37148806]\n",
      " [0.28095604]] , random_number3.shape == (3, 1)\n"
     ]
    }
   ],
   "source": [
    "# 2) numpy.random.rand(...)\n",
    "#   : 0~1 사이의 random number 발생\n",
    "#   : 행렬형식으로도 생성 가능\n",
    "\n",
    "random_number1 = np.random.rand(3) \n",
    "random_number2 = np.random.rand(1, 3)\n",
    "random_number3 = np.random.rand(3, 1)  \n",
    "\n",
    "print(\"random_number1 ==\", random_number1, \", random_number1.shape ==\", random_number1.shape) \n",
    "print(\"random_number2 ==\", random_number2, \", random_number2.shape ==\", random_number2.shape) \n",
    "print(\"random_number3 ==\", random_number3, \", random_number3.shape ==\", random_number3.shape)"
   ]
  },
  {
   "cell_type": "code",
   "execution_count": 9,
   "metadata": {},
   "outputs": [
    {
     "name": "stdout",
     "output_type": "stream",
     "text": [
      "np.sum(X) == 20\n",
      "np.exp(X) == [   7.3890561    54.59815003  403.42879349 2980.95798704]\n",
      "np.log(X) == [0.69314718 1.38629436 1.79175947 2.07944154]\n"
     ]
    }
   ],
   "source": [
    "# 3) numpy.sum(...), numpy.exp(...), numpy.log(...)\n",
    "\n",
    "X = np.array([2, 4, 6, 8]) \n",
    "\n",
    "print(\"np.sum(X) ==\", np.sum(X)) # 모든 요소들에 대한 합\n",
    "print(\"np.exp(X) ==\", np.exp(X)) # 각 요소들의 exponential\n",
    "print(\"np.log(X) ==\", np.log(X)) # 각 요소들의 log"
   ]
  },
  {
   "cell_type": "code",
   "execution_count": 10,
   "metadata": {},
   "outputs": [
    {
     "name": "stdout",
     "output_type": "stream",
     "text": [
      "np.max(X) == 8\n",
      "np.min(X) == 2\n",
      "np.argmax(X) == 3\n",
      "np.argmin(X) == 0\n"
     ]
    }
   ],
   "source": [
    "# 4) numpy.max(...), numpy.min(...), numpy.argmax(...), numpy.argmin(...)\n",
    "\n",
    "X = np.array([2, 4, 6, 8]) \n",
    "\n",
    "print(\"np.max(X) ==\", np.max(X)) \n",
    "print(\"np.min(X) ==\", np.min(X))\n",
    "print(\"np.argmax(X) ==\", np.argmax(X)) # 최댓값인 위치를 알려주는 함수\n",
    "print(\"np.argmin(X) ==\", np.argmin(X)) # 최솟값인 위치를 알려주는 함수"
   ]
  },
  {
   "cell_type": "code",
   "execution_count": 11,
   "metadata": {},
   "outputs": [
    {
     "name": "stdout",
     "output_type": "stream",
     "text": [
      "np.max(X) == [2 5 8]\n",
      "np.min(X) == [0 2 3]\n",
      "np.max(X) == [6 3 8]\n",
      "np.min(X) == [2 1 0]\n",
      "np.argmax(X) == [0 2 2]\n",
      "np.argmin(X) == [2 1 1]\n",
      "np.argmax(X) == [2 2 2]\n",
      "np.argmin(X) == [0 0 0]\n"
     ]
    }
   ],
   "source": [
    "# 각 열이나 각 행에서의 max, min, argmax, argmin 찾을 수 있음.\n",
    "\n",
    "X = np.array([ [2, 4, 6], [1, 2, 3], [0, 5, 8] ]) \n",
    "\n",
    "print(\"np.max(X) ==\", np.max(X, axis=0)) # axis=0, 열기준\n",
    "print(\"np.min(X) ==\", np.min(X, axis=0)) # axis=0, 열기준\n",
    "\n",
    "print(\"np.max(X) ==\", np.max(X, axis=1)) # axis=1, 행기준\n",
    "print(\"np.min(X) ==\", np.min(X, axis=1)) # axis=1, 행기준\n",
    "\n",
    "print(\"np.argmax(X) ==\", np.argmax(X, axis=0)) # axis=0, 열기준\n",
    "print(\"np.argmin(X) ==\", np.argmin(X, axis=0)) # axis=0, 열기준\n",
    "\n",
    "print(\"np.argmax(X) ==\", np.argmax(X, axis=1)) # axis=1, 행기준\n",
    "print(\"np.argmin(X) ==\", np.argmin(X, axis=1)) # axis=1, 행기준"
   ]
  },
  {
   "cell_type": "code",
   "execution_count": 16,
   "metadata": {},
   "outputs": [
    {
     "name": "stdout",
     "output_type": "stream",
     "text": [
      "A.shape == (3, 3) \n",
      " A == \n",
      " [[1. 1. 1.]\n",
      " [1. 1. 1.]\n",
      " [1. 1. 1.]]\n",
      "B.shape == (3, 2) \n",
      " B == \n",
      " [[0. 0.]\n",
      " [0. 0.]\n",
      " [0. 0.]]\n"
     ]
    }
   ],
   "source": [
    "# 5) numpy.ones(...), numpy.zeros(...)\n",
    "\n",
    "A = np.ones([3,3])\n",
    "print(\"A.shape ==\", A.shape, \"\\n\", \"A ==\", \"\\n\", A)\n",
    "B = np.zeros([3,2])\n",
    "print(\"B.shape ==\", B.shape, \"\\n\", \"B ==\", \"\\n\", B)"
   ]
  },
  {
   "cell_type": "code",
   "execution_count": 17,
   "metadata": {},
   "outputs": [
    {
     "data": {
      "image/png": "[encoded data removed]",
      "text/plain": [
       "<Figure size 432x288 with 1 Axes>"
      ]
     },
     "metadata": {
      "needs_background": "light"
     },
     "output_type": "display_data"
    }
   ],
   "source": [
    "# 3. matplotlib\n",
    "#  : 데이터 시각화를 사용 하는 라이브러리\n",
    "#  : 머신러닝 코드 구현 이전에 입력 데이터의 분포와 특성을 파악한 후 알고리즘 선택\n",
    "\n",
    "# 1) scatter plot\n",
    "\n",
    "import matplotlib.pyplot as plt\n",
    "import numpy as np\n",
    "\n",
    "# 주피터 노트북을 사용하는 경우 노트북 내부에 그림 표시\n",
    "%matplotlib inline \n",
    "\n",
    "# x data,  y data 생성\n",
    "x_data = np.random.rand(100)\n",
    "y_data = np.random.rand(100) \n",
    "\n",
    "plt.title('scatter plot')\n",
    "plt.grid() \n",
    "plt.scatter(x_data, y_data, color='b', marker='o') \n",
    "plt.show()"
   ]
  },
  {
   "cell_type": "code",
   "execution_count": 18,
   "metadata": {},
   "outputs": [
    {
     "data": {
      "image/png": "[encoded data removed]",
      "text/plain": [
       "<Figure size 432x288 with 1 Axes>"
      ]
     },
     "metadata": {
      "needs_background": "light"
     },
     "output_type": "display_data"
    }
   ],
   "source": [
    "# 2) line plot\n",
    "\n",
    "import matplotlib.pyplot as plt\n",
    "\n",
    "%matplotlib inline \n",
    "\n",
    "x_data = [ x for x in range(-5,5) ] \n",
    "y_data = [ y*y for y in range(-5,5) ] \n",
    "\n",
    "plt.title('line plot')\n",
    "plt.grid() \n",
    "plt.plot(x_data, y_data ,color='r') \n",
    "plt.show()"
   ]
  },
  {
   "cell_type": "code",
   "execution_count": 20,
   "metadata": {},
   "outputs": [
    {
     "data": {
      "image/png": "[encoded data removed]",
      "text/plain": [
       "<Figure size 432x288 with 1 Axes>"
      ]
     },
     "metadata": {
      "needs_background": "light"
     },
     "output_type": "display_data"
    }
   ],
   "source": [
    "# 2) line plot - 데이터 직접 입력\n",
    "import matplotlib.pyplot as plt\n",
    "\n",
    "\n",
    "# 주피터 노트북을 사용하는 경우 노트북 내부에 그림 표시\n",
    "%matplotlib inline \n",
    "\n",
    "x_data = [ -3,  -2, -1, 0, 1, 2,   3,  4, 5, 6, 7,  8, 9 ]\n",
    "y_data = [ -8, -13, -0, 3, 6, -1, -5, -7, 1, 8, 7, 12, 13 ] \n",
    "\n",
    "plt.title('line plot')\n",
    "plt.grid() \n",
    "plt.plot(x_data, y_data, color='g') \n",
    "plt.show()"
   ]
  }
 ],
 "metadata": {
  "kernelspec": {
   "display_name": "virEnv",
   "language": "python",
   "name": "virenv"
  },
  "language_info": {
   "codemirror_mode": {
    "name": "ipython",
    "version": 3
   },
   "file_extension": ".py",
   "mimetype": "text/x-python",
   "name": "python",
   "nbconvert_exporter": "python",
   "pygments_lexer": "ipython3",
   "version": "3.7.5"
  }
 },
 "nbformat": 4,
 "nbformat_minor": 2
}
